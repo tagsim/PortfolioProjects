{
 "cells": [
  {
   "cell_type": "code",
   "execution_count": 1,
   "id": "69f980c6-5f6e-4879-91eb-8ada0e5d3b7f",
   "metadata": {},
   "outputs": [],
   "source": [
    "import pandas as pd\n",
    "import sqlite3 "
   ]
  },
  {
   "cell_type": "code",
   "execution_count": 2,
   "id": "838389b2-87ea-4d50-bada-2575ad99f762",
   "metadata": {},
   "outputs": [
    {
     "name": "stdout",
     "output_type": "stream",
     "text": [
      "Defaulting to user installation because normal site-packages is not writeable\n",
      "Requirement already satisfied: ipython-sql in ./.local/lib/python3.9/site-packages (0.5.0)\n",
      "Requirement already satisfied: prettytable in ./.local/lib/python3.9/site-packages (from ipython-sql) (3.9.0)\n",
      "Requirement already satisfied: ipython in /usr/local/lib/python3.9/dist-packages (from ipython-sql) (8.17.2)\n",
      "Requirement already satisfied: sqlalchemy>=2.0 in ./.local/lib/python3.9/site-packages (from ipython-sql) (2.0.22)\n",
      "Requirement already satisfied: sqlparse in ./.local/lib/python3.9/site-packages (from ipython-sql) (0.4.4)\n",
      "Requirement already satisfied: six in /usr/local/lib/python3.9/dist-packages (from ipython-sql) (1.16.0)\n",
      "Requirement already satisfied: ipython-genutils in ./.local/lib/python3.9/site-packages (from ipython-sql) (0.2.0)\n",
      "Requirement already satisfied: typing-extensions>=4.2.0 in ./.local/lib/python3.9/site-packages (from sqlalchemy>=2.0->ipython-sql) (4.8.0)\n",
      "Requirement already satisfied: greenlet!=0.4.17 in ./.local/lib/python3.9/site-packages (from sqlalchemy>=2.0->ipython-sql) (3.0.0)\n",
      "Requirement already satisfied: decorator in /usr/local/lib/python3.9/dist-packages (from ipython->ipython-sql) (5.1.1)\n",
      "Requirement already satisfied: jedi>=0.16 in /usr/local/lib/python3.9/dist-packages (from ipython->ipython-sql) (0.19.1)\n",
      "Requirement already satisfied: matplotlib-inline in /usr/local/lib/python3.9/dist-packages (from ipython->ipython-sql) (0.1.6)\n",
      "Requirement already satisfied: prompt-toolkit!=3.0.37,<3.1.0,>=3.0.30 in /usr/local/lib/python3.9/dist-packages (from ipython->ipython-sql) (3.0.41)\n",
      "Requirement already satisfied: pygments>=2.4.0 in /usr/local/lib/python3.9/dist-packages (from ipython->ipython-sql) (2.17.0)\n",
      "Requirement already satisfied: stack-data in /usr/local/lib/python3.9/dist-packages (from ipython->ipython-sql) (0.6.3)\n",
      "Requirement already satisfied: traitlets>=5 in /usr/local/lib/python3.9/dist-packages (from ipython->ipython-sql) (5.13.0)\n",
      "Requirement already satisfied: exceptiongroup in ./.local/lib/python3.9/site-packages (from ipython->ipython-sql) (1.1.3)\n",
      "Requirement already satisfied: pexpect>4.3 in /usr/local/lib/python3.9/dist-packages (from ipython->ipython-sql) (4.8.0)\n",
      "Requirement already satisfied: wcwidth in /usr/local/lib/python3.9/dist-packages (from prettytable->ipython-sql) (0.2.10)\n",
      "Requirement already satisfied: parso<0.9.0,>=0.8.3 in /usr/local/lib/python3.9/dist-packages (from jedi>=0.16->ipython->ipython-sql) (0.8.3)\n",
      "Requirement already satisfied: ptyprocess>=0.5 in /usr/local/lib/python3.9/dist-packages (from pexpect>4.3->ipython->ipython-sql) (0.7.0)\n",
      "Requirement already satisfied: executing>=1.2.0 in /usr/local/lib/python3.9/dist-packages (from stack-data->ipython->ipython-sql) (2.0.1)\n",
      "Requirement already satisfied: asttokens>=2.1.0 in /usr/local/lib/python3.9/dist-packages (from stack-data->ipython->ipython-sql) (2.4.1)\n",
      "Requirement already satisfied: pure-eval in /usr/local/lib/python3.9/dist-packages (from stack-data->ipython->ipython-sql) (0.2.2)\n"
     ]
    }
   ],
   "source": [
    "!pip install ipython-sql"
   ]
  },
  {
   "cell_type": "code",
   "execution_count": null,
   "id": "ef837f2d-37e6-4429-b4de-136f6a3eb5f0",
   "metadata": {},
   "outputs": [],
   "source": [
    "#Joining dataset and reading csv to pandas dataframe:\n",
    "df = pd.read_csv('cyclistic_data.csv')\n",
    "df2 = pd.read_csv('cyclistic_c_data.csv') \n",
    "combined_df = pd.concat([df, df2], ignore_index=True)"
   ]
  },
  {
   "cell_type": "code",
   "execution_count": null,
   "id": "24576e91-328b-40a9-aab5-68650dfaa1c8",
   "metadata": {},
   "outputs": [],
   "source": [
    "cnn = sqlite3.connect('simsimb.db')"
   ]
  },
  {
   "cell_type": "code",
   "execution_count": null,
   "id": "2548fdb2-a469-40ef-8692-7d2af464476e",
   "metadata": {},
   "outputs": [],
   "source": [
    "combined_df.to_sql('cyclisticdata', cnn, if_exists='replace')"
   ]
  },
  {
   "cell_type": "code",
   "execution_count": null,
   "id": "7cdfe2c8-d069-4ad9-9693-0dd81e20ff78",
   "metadata": {},
   "outputs": [],
   "source": [
    "%load_ext sql"
   ]
  },
  {
   "cell_type": "code",
   "execution_count": null,
   "id": "f083dc2f-86a4-4c23-afe7-ad0f24386985",
   "metadata": {},
   "outputs": [],
   "source": [
    "%sql sqlite:///simsimb.db"
   ]
  },
  {
   "cell_type": "code",
   "execution_count": null,
   "id": "0db3c36a-a0d3-4589-9f41-5d7d05fe1cdf",
   "metadata": {},
   "outputs": [],
   "source": [
    "%%sql\n",
    "SELECT *\n",
    "FROM \n",
    "cyclisticdata\n",
    "limit 10;"
   ]
  },
  {
   "cell_type": "code",
   "execution_count": null,
   "id": "daf89f43-2552-43dc-9d52-0299e74b6c31",
   "metadata": {},
   "outputs": [],
   "source": [
    "%%sql\n",
    "UPDATE cyclisticdata\n",
    "SET month = CASE month\n",
    "                  WHEN '1' THEN 'January'\n",
    "                  WHEN '2' THEN 'February'\n",
    "                  WHEN '3' THEN 'March'\n",
    "                  WHEN '4' THEN 'April'\n",
    "                  WHEN '5' THEN 'May'\n",
    "                  WHEN '6' THEN 'June'\n",
    "                  WHEN '7' THEN 'July'\n",
    "                  WHEN '8' THEN 'August'\n",
    "                  WHEN '9' THEN 'September'\n",
    "                  WHEN '10' THEN 'October'\n",
    "                  WHEN '11' THEN 'November'\n",
    "                  WHEN '12' THEN 'December'\n",
    "                  ELSE month  \n",
    "                END\n",
    "WHERE month IN ('1', '2', '3', '4', '5', '6', '7', '8', '9', '10', '11', '12');"
   ]
  },
  {
   "cell_type": "code",
   "execution_count": null,
   "id": "008204e4-b7d6-4665-8741-8f4c14e2df44",
   "metadata": {},
   "outputs": [],
   "source": [
    "%%sql\n",
    "UPDATE cyclisticdata\n",
    "SET dayofweek = CASE dayofweek\n",
    "                  WHEN '0' THEN 'Monday'\n",
    "                  WHEN '1' THEN 'Tuesday'\n",
    "                  WHEN '2' THEN 'Wednesday'\n",
    "                  WHEN '3' THEN 'Thursday'\n",
    "                  WHEN '4' THEN 'Friday'\n",
    "                  WHEN '5' THEN 'Saturday'\n",
    "                  WHEN '6' THEN 'Sunday'\n",
    "                  ELSE dayofweek  \n",
    "                END\n",
    "WHERE dayofweek IN ('0', '1', '2', '3', '4', '5', '6');"
   ]
  },
  {
   "cell_type": "code",
   "execution_count": null,
   "id": "df61c2bf-e863-4a08-b25f-86523b40dc85",
   "metadata": {},
   "outputs": [],
   "source": [
    "%%sql \n",
    "SELECT COUNT(rideid) totaltrips,\n",
    "SUM(CASE WHEN membercasual = 'member' THEN 1 ELSE 0 END) totalmember, \n",
    "SUM(CASE WHEN membercasual = 'casual' THEN 1 ELSE 0 END) totalcasual\n",
    "FROM cyclisticdata;"
   ]
  },
  {
   "cell_type": "code",
   "execution_count": null,
   "id": "4f4d6b69-231c-4c9e-94ec-6a65f32041c5",
   "metadata": {},
   "outputs": [],
   "source": [
    "%%sql \n",
    "SELECT COUNT(CASE WHEN rideid IS NULL THEN 1 END) AS null_count\n",
    "FROM cyclisticdata;"
   ]
  },
  {
   "cell_type": "code",
   "execution_count": null,
   "id": "5b02ea9a-a349-4f6d-905f-b96d9c251d95",
   "metadata": {},
   "outputs": [],
   "source": [
    "%%sql\n",
    "SELECT totaltrips, totalmember, totalcasual,\n",
    "       ROUND(((totalcasual * 100) / totaltrips), 2) AS casualpercentage, \n",
    "       ROUND(CAST((totalmember * 100) / totaltrips AS FLOAT), 2) AS memberpercentage  \n",
    "FROM (\n",
    "    SELECT COUNT(rideid) AS totaltrips,\n",
    "           SUM(CASE WHEN membercasual = 'member' THEN 1 ELSE 0 END) AS totalmember,\n",
    "           SUM(CASE WHEN membercasual = 'casual' THEN 1 ELSE 0 END) AS totalcasual\n",
    "    FROM cyclisticdata\n",
    ")\n",
    "\n",
    "--of the 1568271 trips, 67percent were members and 32 were casual"
   ]
  },
  {
   "cell_type": "code",
   "execution_count": null,
   "id": "fe801f38-7525-45f0-bf31-15a8af49bc7c",
   "metadata": {},
   "outputs": [],
   "source": [
    "%%sql\n",
    "SELECT\n",
    "    (SELECT ROUND(AVG(durationmins), 2)\n",
    "     FROM cyclisticdata) AS overallavg,\n",
    "    membercasual,\n",
    "    avgrideduration\n",
    "FROM (\n",
    "    SELECT membercasual, ROUND(AVG(durationmins), 2) AS avgrideduration\n",
    "    FROM cyclisticdata\n",
    "    WHERE membercasual IN ('member', 'casual')\n",
    "    GROUP BY membercasual\n",
    ") AS subquery;"
   ]
  },
  {
   "cell_type": "code",
   "execution_count": null,
   "id": "f1238d42-1a05-4af9-a573-319498166081",
   "metadata": {},
   "outputs": [],
   "source": [
    "%%sql\n",
    "SELECT  membercasual, ROUND(MAX(durationmins),0) AS maxduration\n",
    "FROM cyclisticdata\n",
    "GROUP BY membercasual\n",
    "ORDER BY maxduration DESC;"
   ]
  },
  {
   "cell_type": "code",
   "execution_count": null,
   "id": "e675cd5d-7706-4fb2-9b57-8dae51bd6550",
   "metadata": {},
   "outputs": [],
   "source": [
    "%%sql\n",
    "SELECT membercasual, MIN(durationmins) AS minimduration\n",
    "FROM cyclisticdata\n",
    "GROUP BY membercasual\n",
    "ORDER BY minimduration;"
   ]
  },
  {
   "cell_type": "code",
   "execution_count": null,
   "id": "ae0f3e0d-c34a-4478-97d1-a47d14692d99",
   "metadata": {},
   "outputs": [],
   "source": [
    "%%sql\n",
    "SELECT membercasual, dayofweek AS busiestweekday\n",
    "FROM (\n",
    "    SELECT DISTINCT membercasual, dayofweek,\n",
    "           ROW_NUMBER() OVER (PARTITION BY membercasual ORDER BY COUNT(dayofweek) DESC) AS dowpopularity \n",
    "    FROM cyclisticdata\n",
    "    GROUP BY membercasual, dayofweek\n",
    ") AS subquery  -- Added alias for subquery\n",
    "WHERE dowpopularity = 1\n",
    "ORDER BY membercasual DESC\n",
    "LIMIT 2;"
   ]
  },
  {
   "cell_type": "code",
   "execution_count": null,
   "id": "f7a9ccb7-3078-4fe7-8153-b0065cb03ad0",
   "metadata": {},
   "outputs": [],
   "source": [
    "%%sql\n",
    "    SELECT dayofweek, COUNT(rideid) AS totaltrips,\n",
    "           SUM(CASE WHEN membercasual = 'member' THEN 1 ELSE 0 END) AS totalmember,\n",
    "           SUM(CASE WHEN membercasual = 'casual' THEN 1 ELSE 0 END) AS totalcasual\n",
    "    FROM cyclisticdata\n",
    "    GROUP BY dayofweek\n",
    "    ORDER BY totaltrips DESC;"
   ]
  },
  {
   "cell_type": "code",
   "execution_count": null,
   "id": "7cbd50bc-70c1-4b10-b0ca-c026147d7676",
   "metadata": {},
   "outputs": [],
   "source": [
    "%%sql\n",
    "SELECT startstationname, \n",
    "       SUM(CASE WHEN rideid = rideid AND startstationname = startstationname THEN 1 ELSE 0 END) AS startstationcount,\n",
    "       --SUM(CASE WHEN membercasual = 'member' THEN 1 ELSE 0 END) AS memberstationcount,  \n",
    "       SUM(CASE WHEN membercasual = 'casual' THEN 1 ELSE 0 END) AS casualstationcount  \n",
    "FROM cyclisticdata\n",
    "GROUP BY startstationname\n",
    "ORDER BY startstationcount DESC\n",
    "LIMIT 20;"
   ]
  },
  {
   "cell_type": "code",
   "execution_count": null,
   "id": "a654720d-a3fb-4376-878c-d76f2fa3b750",
   "metadata": {},
   "outputs": [],
   "source": [
    "%%sql\n",
    "SELECT startstationname, \n",
    "       SUM(CASE WHEN rideid = rideid AND startstationname = startstationname THEN 1 ELSE 0 END) AS startstationcount,\n",
    "       --SUM(CASE WHEN membercasual = 'member' THEN 1 ELSE 0 END) AS memberstationcount,  \n",
    "       SUM(CASE WHEN membercasual = 'casual' THEN 1 ELSE 0 END) AS casualstationcount  \n",
    "FROM cyclisticdata\n",
    "GROUP BY startstationname\n",
    "ORDER BY casualstationcount DESC\n",
    "LIMIT 10;"
   ]
  },
  {
   "cell_type": "code",
   "execution_count": null,
   "id": "19ee8d16-5800-4ef4-a9c2-8bc8c8bab94e",
   "metadata": {},
   "outputs": [],
   "source": [
    "%%sql\n",
    "SELECT startstationname, \n",
    "       SUM(CASE WHEN rideid = rideid AND startstationname = startstationname THEN 1 ELSE 0 END) AS startstationcount,\n",
    "       SUM(CASE WHEN membercasual = 'member' THEN 1 ELSE 0 END) AS memberstationcount \n",
    "       --SUM(CASE WHEN membercasual = 'casual' THEN 1 ELSE 0 END) AS casualstationcount  \n",
    "FROM cyclisticdata\n",
    "GROUP BY startstationname\n",
    "ORDER BY memberstationcount DESC\n",
    "LIMIT 10;"
   ]
  },
  {
   "cell_type": "code",
   "execution_count": null,
   "id": "88c6afff-dede-4842-94f8-855221b0983b",
   "metadata": {},
   "outputs": [],
   "source": [
    "%%sql\n",
    "SELECT endstationname, \n",
    "       SUM(CASE WHEN rideid = rideid AND endstationname = endstationname THEN 1 ELSE 0 END) AS endstationcount,\n",
    "       --SUM(CASE WHEN membercasual = 'member' THEN 1 ELSE 0 END) AS memberendstationcount,  \n",
    "       SUM(CASE WHEN membercasual = 'casual' THEN 1 ELSE 0 END) AS casualendstationcount  \n",
    "FROM cyclisticdata\n",
    "GROUP BY endstationname\n",
    "ORDER BY endstationcount DESC\n",
    "LIMIT 20;"
   ]
  },
  {
   "cell_type": "code",
   "execution_count": null,
   "id": "3ea6fa3e-003c-4467-840f-4a60bf9dd3ab",
   "metadata": {},
   "outputs": [],
   "source": [
    "%%sql\n",
    "SELECT startstationname, \n",
    "       SUM(CASE WHEN rideid = rideid AND endstationname = endstationname THEN 1 ELSE 0 END) AS endstationcount,\n",
    "       SUM(CASE WHEN membercasual = 'member' THEN 1 ELSE 0 END) AS memberendstationcount,  \n",
    "       --SUM(CASE WHEN membercasual = 'casual' THEN 1 ELSE 0 END) AS casualendstationcount  \n",
    "FROM cyclisticdata\n",
    "GROUP BY endstationname\n",
    "ORDER BY memberendstationcount DESC\n",
    "LIMIT 10;"
   ]
  },
  {
   "cell_type": "code",
   "execution_count": null,
   "id": "bd8ad0d7-b999-43ae-a256-8ee3044f1090",
   "metadata": {},
   "outputs": [],
   "source": [
    "%%sql\n",
    "SELECT endstationname, \n",
    "       SUM(CASE WHEN rideid = rideid AND endstationname = endstationname THEN 1 ELSE 0 END) AS endstationcount,\n",
    "       --SUM(CASE WHEN membercasual = 'member' THEN 1 ELSE 0 END) AS memberendstationcount,  \n",
    "       SUM(CASE WHEN membercasual = 'casual' THEN 1 ELSE 0 END) AS casualendstationcount  \n",
    "FROM cyclisticdata\n",
    "GROUP BY endstationname\n",
    "ORDER BY casualendstationcount DESC\n",
    "LIMIT 10;"
   ]
  },
  {
   "cell_type": "code",
   "execution_count": null,
   "id": "3a8a41c1-7a2e-46d2-ae63-624f30eee3da",
   "metadata": {},
   "outputs": [],
   "source": [
    "combined.to_csv('cyclistic1_data.csv')"
   ]
  },
  {
   "cell_type": "code",
   "execution_count": null,
   "id": "7141f5eb-934d-40de-bec3-474535b92eee",
   "metadata": {},
   "outputs": [],
   "source": []
  },
  {
   "cell_type": "code",
   "execution_count": null,
   "id": "7f397b2e-2afb-43b0-833e-2176441de38b",
   "metadata": {},
   "outputs": [],
   "source": []
  },
  {
   "cell_type": "code",
   "execution_count": null,
   "id": "8980af01-9ca9-44db-b187-55b15ec0673b",
   "metadata": {},
   "outputs": [],
   "source": []
  },
  {
   "cell_type": "code",
   "execution_count": null,
   "id": "b1e3641f-5af8-405c-8da7-5a6d0c848d17",
   "metadata": {},
   "outputs": [],
   "source": []
  },
  {
   "cell_type": "code",
   "execution_count": null,
   "id": "d30dbfd2-b1ab-42bb-8e56-02cbd1de160a",
   "metadata": {},
   "outputs": [],
   "source": []
  },
  {
   "cell_type": "code",
   "execution_count": null,
   "id": "fd440db1-9667-4f65-b110-360ef0887e45",
   "metadata": {},
   "outputs": [],
   "source": []
  },
  {
   "cell_type": "code",
   "execution_count": null,
   "id": "45fbddc1-c92b-4600-b256-3eca9563de04",
   "metadata": {},
   "outputs": [],
   "source": []
  },
  {
   "cell_type": "code",
   "execution_count": null,
   "id": "feb5b36e-9218-4aa3-bdb8-e41dfacf36b1",
   "metadata": {},
   "outputs": [],
   "source": []
  },
  {
   "cell_type": "code",
   "execution_count": null,
   "id": "7a46fec9-13b9-4cfd-ac17-431fd5445270",
   "metadata": {},
   "outputs": [],
   "source": []
  },
  {
   "cell_type": "code",
   "execution_count": null,
   "id": "80768dcb-e08f-407e-a399-35759d8d8c8b",
   "metadata": {},
   "outputs": [],
   "source": []
  },
  {
   "cell_type": "code",
   "execution_count": null,
   "id": "6059cf33-8af9-4645-b3fb-17a35aab6e4d",
   "metadata": {},
   "outputs": [],
   "source": []
  },
  {
   "cell_type": "code",
   "execution_count": null,
   "id": "66025568-bffc-46ea-8de1-c884bd771759",
   "metadata": {},
   "outputs": [],
   "source": []
  },
  {
   "cell_type": "code",
   "execution_count": null,
   "id": "68ee1f9e-07c2-440d-8fcd-c36c387631fb",
   "metadata": {},
   "outputs": [],
   "source": []
  }
 ],
 "metadata": {
  "kernelspec": {
   "display_name": "Python 3 (ipykernel)",
   "language": "python",
   "name": "python3"
  },
  "language_info": {
   "codemirror_mode": {
    "name": "ipython",
    "version": 3
   },
   "file_extension": ".py",
   "mimetype": "text/x-python",
   "name": "python",
   "nbconvert_exporter": "python",
   "pygments_lexer": "ipython3",
   "version": "3.9.2"
  }
 },
 "nbformat": 4,
 "nbformat_minor": 5
}
