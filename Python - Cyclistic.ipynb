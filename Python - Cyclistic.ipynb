{
 "cells": [
  {
   "cell_type": "code",
   "execution_count": 1,
   "id": "c03b0d00-1499-497a-99af-25b8cbfb6f9c",
   "metadata": {},
   "outputs": [],
   "source": [
    "import pandas as pd\n",
    "import sqlite3 \n",
    "import numpy as np\n",
    "pd.options.display.float_format = '{:,.2f}'.format\n",
    "%matplotlib inline\n",
    "import warnings\n",
    "import time\n",
    "import calendar\n",
    "from datetime import datetime as dt\n",
    "from adtk.data import validate_series\n",
    "warnings.filterwarnings(\"ignore\")"
   ]
  },
  {
   "cell_type": "code",
   "execution_count": 2,
   "id": "b44b1454-be7a-4262-a111-9ebf75cb2ebe",
   "metadata": {},
   "outputs": [
    {
     "name": "stdout",
     "output_type": "stream",
     "text": [
      "Defaulting to user installation because normal site-packages is not writeable\n",
      "Requirement already satisfied: ipython-sql in ./.local/lib/python3.9/site-packages (0.5.0)\n",
      "Requirement already satisfied: prettytable in ./.local/lib/python3.9/site-packages (from ipython-sql) (3.9.0)\n",
      "Requirement already satisfied: ipython in /usr/local/lib/python3.9/dist-packages (from ipython-sql) (8.17.2)\n",
      "Requirement already satisfied: sqlalchemy>=2.0 in ./.local/lib/python3.9/site-packages (from ipython-sql) (2.0.22)\n",
      "Requirement already satisfied: sqlparse in ./.local/lib/python3.9/site-packages (from ipython-sql) (0.4.4)\n",
      "Requirement already satisfied: six in /usr/local/lib/python3.9/dist-packages (from ipython-sql) (1.16.0)\n",
      "Requirement already satisfied: ipython-genutils in ./.local/lib/python3.9/site-packages (from ipython-sql) (0.2.0)\n",
      "Requirement already satisfied: typing-extensions>=4.2.0 in ./.local/lib/python3.9/site-packages (from sqlalchemy>=2.0->ipython-sql) (4.8.0)\n",
      "Requirement already satisfied: greenlet!=0.4.17 in ./.local/lib/python3.9/site-packages (from sqlalchemy>=2.0->ipython-sql) (3.0.0)\n",
      "Requirement already satisfied: decorator in /usr/local/lib/python3.9/dist-packages (from ipython->ipython-sql) (5.1.1)\n",
      "Requirement already satisfied: jedi>=0.16 in /usr/local/lib/python3.9/dist-packages (from ipython->ipython-sql) (0.19.1)\n",
      "Requirement already satisfied: matplotlib-inline in /usr/local/lib/python3.9/dist-packages (from ipython->ipython-sql) (0.1.6)\n",
      "Requirement already satisfied: prompt-toolkit!=3.0.37,<3.1.0,>=3.0.30 in /usr/local/lib/python3.9/dist-packages (from ipython->ipython-sql) (3.0.41)\n",
      "Requirement already satisfied: pygments>=2.4.0 in /usr/local/lib/python3.9/dist-packages (from ipython->ipython-sql) (2.17.0)\n",
      "Requirement already satisfied: stack-data in /usr/local/lib/python3.9/dist-packages (from ipython->ipython-sql) (0.6.3)\n",
      "Requirement already satisfied: traitlets>=5 in /usr/local/lib/python3.9/dist-packages (from ipython->ipython-sql) (5.13.0)\n",
      "Requirement already satisfied: exceptiongroup in ./.local/lib/python3.9/site-packages (from ipython->ipython-sql) (1.1.3)\n",
      "Requirement already satisfied: pexpect>4.3 in /usr/local/lib/python3.9/dist-packages (from ipython->ipython-sql) (4.8.0)\n",
      "Requirement already satisfied: wcwidth in /usr/local/lib/python3.9/dist-packages (from prettytable->ipython-sql) (0.2.10)\n",
      "Requirement already satisfied: parso<0.9.0,>=0.8.3 in /usr/local/lib/python3.9/dist-packages (from jedi>=0.16->ipython->ipython-sql) (0.8.3)\n",
      "Requirement already satisfied: ptyprocess>=0.5 in /usr/local/lib/python3.9/dist-packages (from pexpect>4.3->ipython->ipython-sql) (0.7.0)\n",
      "Requirement already satisfied: executing>=1.2.0 in /usr/local/lib/python3.9/dist-packages (from stack-data->ipython->ipython-sql) (2.0.1)\n",
      "Requirement already satisfied: asttokens>=2.1.0 in /usr/local/lib/python3.9/dist-packages (from stack-data->ipython->ipython-sql) (2.4.1)\n",
      "Requirement already satisfied: pure-eval in /usr/local/lib/python3.9/dist-packages (from stack-data->ipython->ipython-sql) (0.2.2)\n"
     ]
    }
   ],
   "source": [
    "!pip install ipython-sql"
   ]
  },
  {
   "cell_type": "code",
   "execution_count": 3,
   "id": "216a460e-63c3-46d5-9568-c0353a812210",
   "metadata": {},
   "outputs": [
    {
     "name": "stdout",
     "output_type": "stream",
     "text": [
      "                  ride_id  rideable_type           started_at  \\\n",
      "0        5156990AC19CA285  electric_bike  2022-09-01 08:36:22   \n",
      "1        E12D4A16BF51C274  electric_bike  2022-09-01 17:11:29   \n",
      "2        A02B53CD7DB72DD7  electric_bike  2022-09-01 17:15:50   \n",
      "3        C82E05FEE872DF11  electric_bike  2022-09-01 09:00:28   \n",
      "4        4DEEB4550A266AE1  electric_bike  2022-09-01 07:30:11   \n",
      "...                   ...            ...                  ...   \n",
      "2160306  C04510F8EBB5EE8A   classic_bike  2023-02-08 21:57:22   \n",
      "2160307  187BA364FB265C80  electric_bike  2023-02-19 11:29:09   \n",
      "2160308  46B54F6B417D1B27  electric_bike  2023-02-07 09:01:33   \n",
      "2160309  335B3CAD59F6C016  electric_bike  2023-02-22 08:33:22   \n",
      "2160310  03D59518BB151EFA   classic_bike  2023-02-01 21:52:17   \n",
      "\n",
      "                    ended_at         start_station_name start_station_id  \\\n",
      "0        2022-09-01 08:39:05                        NaN              NaN   \n",
      "1        2022-09-01 17:14:45                        NaN              NaN   \n",
      "2        2022-09-01 17:16:12                        NaN              NaN   \n",
      "3        2022-09-01 09:10:32                        NaN              NaN   \n",
      "4        2022-09-01 07:32:36                        NaN              NaN   \n",
      "...                      ...                        ...              ...   \n",
      "2160306  2023-02-08 22:08:06  Clark St & Wrightwood Ave     TA1305000014   \n",
      "2160307  2023-02-19 11:39:11   Ogden Ave & Roosevelt Rd     KA1504000101   \n",
      "2160308  2023-02-07 09:16:53  Clark St & Wrightwood Ave     TA1305000014   \n",
      "2160309  2023-02-22 08:50:11  Clark St & Wrightwood Ave     TA1305000014   \n",
      "2160310  2023-02-01 22:04:17    Clark St & Winnemac Ave     TA1309000035   \n",
      "\n",
      "                       end_station_name end_station_id  start_lat  start_lng  \\\n",
      "0        California Ave & Milwaukee Ave          13084      41.93     -87.69   \n",
      "1                                   NaN            NaN      41.87     -87.62   \n",
      "2                                   NaN            NaN      41.87     -87.62   \n",
      "3                                   NaN            NaN      41.93     -87.69   \n",
      "4                                   NaN            NaN      41.92     -87.73   \n",
      "...                                 ...            ...        ...        ...   \n",
      "2160306    Sheffield Ave & Waveland Ave   TA1307000126      41.93     -87.64   \n",
      "2160307        Delano Ct & Roosevelt Rd   KA1706005007      41.87     -87.68   \n",
      "2160308           Canal St & Madison St          13341      41.93     -87.64   \n",
      "2160309           Canal St & Madison St          13341      41.93     -87.64   \n",
      "2160310    Sheffield Ave & Waveland Ave   TA1307000126      41.97     -87.67   \n",
      "\n",
      "         end_lat  end_lng member_casual  \n",
      "0          41.92   -87.70        casual  \n",
      "1          41.87   -87.62        casual  \n",
      "2          41.87   -87.62        casual  \n",
      "3          41.94   -87.67        casual  \n",
      "4          41.92   -87.73        casual  \n",
      "...          ...      ...           ...  \n",
      "2160306    41.95   -87.65        member  \n",
      "2160307    41.87   -87.63        member  \n",
      "2160308    41.88   -87.64        casual  \n",
      "2160309    41.88   -87.64        casual  \n",
      "2160310    41.95   -87.65        member  \n",
      "\n",
      "[2160311 rows x 13 columns]\n"
     ]
    }
   ],
   "source": [
    "#Joining dataset and reading csv to pandas dataframe:\n",
    "file_path = ['202209-divvy-publictripdata.csv', '202210-divvy-tripdata.csv', '202211-divvy-tripdata.csv', '202212-divvy-tripdata.csv', \n",
    "             '202301-divvy-tripdata.csv', '202302-divvy-tripdata.csv']\n",
    "dataframes = [pd.read_csv(file) for file in file_path]\n",
    "\n",
    "merged_df = pd.concat(dataframes, ignore_index = True)\n",
    "print(merged_df)"
   ]
  },
  {
   "cell_type": "code",
   "execution_count": 4,
   "id": "89afd371-433c-4b4f-87ef-b0638555edab",
   "metadata": {},
   "outputs": [
    {
     "data": {
      "text/html": [
       "<div>\n",
       "<style scoped>\n",
       "    .dataframe tbody tr th:only-of-type {\n",
       "        vertical-align: middle;\n",
       "    }\n",
       "\n",
       "    .dataframe tbody tr th {\n",
       "        vertical-align: top;\n",
       "    }\n",
       "\n",
       "    .dataframe thead th {\n",
       "        text-align: right;\n",
       "    }\n",
       "</style>\n",
       "<table border=\"1\" class=\"dataframe\">\n",
       "  <thead>\n",
       "    <tr style=\"text-align: right;\">\n",
       "      <th></th>\n",
       "      <th>ride_id</th>\n",
       "      <th>rideable_type</th>\n",
       "      <th>started_at</th>\n",
       "      <th>ended_at</th>\n",
       "      <th>start_station_name</th>\n",
       "      <th>start_station_id</th>\n",
       "      <th>end_station_name</th>\n",
       "      <th>end_station_id</th>\n",
       "      <th>start_lat</th>\n",
       "      <th>start_lng</th>\n",
       "      <th>end_lat</th>\n",
       "      <th>end_lng</th>\n",
       "      <th>member_casual</th>\n",
       "    </tr>\n",
       "  </thead>\n",
       "  <tbody>\n",
       "    <tr>\n",
       "      <th>0</th>\n",
       "      <td>5156990AC19CA285</td>\n",
       "      <td>electric_bike</td>\n",
       "      <td>2022-09-01 08:36:22</td>\n",
       "      <td>2022-09-01 08:39:05</td>\n",
       "      <td>NaN</td>\n",
       "      <td>NaN</td>\n",
       "      <td>California Ave &amp; Milwaukee Ave</td>\n",
       "      <td>13084</td>\n",
       "      <td>41.93</td>\n",
       "      <td>-87.69</td>\n",
       "      <td>41.92</td>\n",
       "      <td>-87.70</td>\n",
       "      <td>casual</td>\n",
       "    </tr>\n",
       "    <tr>\n",
       "      <th>1</th>\n",
       "      <td>E12D4A16BF51C274</td>\n",
       "      <td>electric_bike</td>\n",
       "      <td>2022-09-01 17:11:29</td>\n",
       "      <td>2022-09-01 17:14:45</td>\n",
       "      <td>NaN</td>\n",
       "      <td>NaN</td>\n",
       "      <td>NaN</td>\n",
       "      <td>NaN</td>\n",
       "      <td>41.87</td>\n",
       "      <td>-87.62</td>\n",
       "      <td>41.87</td>\n",
       "      <td>-87.62</td>\n",
       "      <td>casual</td>\n",
       "    </tr>\n",
       "    <tr>\n",
       "      <th>2</th>\n",
       "      <td>A02B53CD7DB72DD7</td>\n",
       "      <td>electric_bike</td>\n",
       "      <td>2022-09-01 17:15:50</td>\n",
       "      <td>2022-09-01 17:16:12</td>\n",
       "      <td>NaN</td>\n",
       "      <td>NaN</td>\n",
       "      <td>NaN</td>\n",
       "      <td>NaN</td>\n",
       "      <td>41.87</td>\n",
       "      <td>-87.62</td>\n",
       "      <td>41.87</td>\n",
       "      <td>-87.62</td>\n",
       "      <td>casual</td>\n",
       "    </tr>\n",
       "    <tr>\n",
       "      <th>3</th>\n",
       "      <td>C82E05FEE872DF11</td>\n",
       "      <td>electric_bike</td>\n",
       "      <td>2022-09-01 09:00:28</td>\n",
       "      <td>2022-09-01 09:10:32</td>\n",
       "      <td>NaN</td>\n",
       "      <td>NaN</td>\n",
       "      <td>NaN</td>\n",
       "      <td>NaN</td>\n",
       "      <td>41.93</td>\n",
       "      <td>-87.69</td>\n",
       "      <td>41.94</td>\n",
       "      <td>-87.67</td>\n",
       "      <td>casual</td>\n",
       "    </tr>\n",
       "    <tr>\n",
       "      <th>4</th>\n",
       "      <td>4DEEB4550A266AE1</td>\n",
       "      <td>electric_bike</td>\n",
       "      <td>2022-09-01 07:30:11</td>\n",
       "      <td>2022-09-01 07:32:36</td>\n",
       "      <td>NaN</td>\n",
       "      <td>NaN</td>\n",
       "      <td>NaN</td>\n",
       "      <td>NaN</td>\n",
       "      <td>41.92</td>\n",
       "      <td>-87.73</td>\n",
       "      <td>41.92</td>\n",
       "      <td>-87.73</td>\n",
       "      <td>casual</td>\n",
       "    </tr>\n",
       "  </tbody>\n",
       "</table>\n",
       "</div>"
      ],
      "text/plain": [
       "            ride_id  rideable_type           started_at             ended_at  \\\n",
       "0  5156990AC19CA285  electric_bike  2022-09-01 08:36:22  2022-09-01 08:39:05   \n",
       "1  E12D4A16BF51C274  electric_bike  2022-09-01 17:11:29  2022-09-01 17:14:45   \n",
       "2  A02B53CD7DB72DD7  electric_bike  2022-09-01 17:15:50  2022-09-01 17:16:12   \n",
       "3  C82E05FEE872DF11  electric_bike  2022-09-01 09:00:28  2022-09-01 09:10:32   \n",
       "4  4DEEB4550A266AE1  electric_bike  2022-09-01 07:30:11  2022-09-01 07:32:36   \n",
       "\n",
       "  start_station_name start_station_id                end_station_name  \\\n",
       "0                NaN              NaN  California Ave & Milwaukee Ave   \n",
       "1                NaN              NaN                             NaN   \n",
       "2                NaN              NaN                             NaN   \n",
       "3                NaN              NaN                             NaN   \n",
       "4                NaN              NaN                             NaN   \n",
       "\n",
       "  end_station_id  start_lat  start_lng  end_lat  end_lng member_casual  \n",
       "0          13084      41.93     -87.69    41.92   -87.70        casual  \n",
       "1            NaN      41.87     -87.62    41.87   -87.62        casual  \n",
       "2            NaN      41.87     -87.62    41.87   -87.62        casual  \n",
       "3            NaN      41.93     -87.69    41.94   -87.67        casual  \n",
       "4            NaN      41.92     -87.73    41.92   -87.73        casual  "
      ]
     },
     "execution_count": 4,
     "metadata": {},
     "output_type": "execute_result"
    }
   ],
   "source": [
    "merged_df.head()"
   ]
  },
  {
   "cell_type": "code",
   "execution_count": 5,
   "id": "8d1ae8cd-feea-4aba-b1bc-cde96bff9a72",
   "metadata": {},
   "outputs": [
    {
     "data": {
      "text/plain": [
       "ride_id                object\n",
       "rideable_type          object\n",
       "started_at             object\n",
       "ended_at               object\n",
       "start_station_name     object\n",
       "start_station_id       object\n",
       "end_station_name       object\n",
       "end_station_id         object\n",
       "start_lat             float64\n",
       "start_lng             float64\n",
       "end_lat               float64\n",
       "end_lng               float64\n",
       "member_casual          object\n",
       "dtype: object"
      ]
     },
     "execution_count": 5,
     "metadata": {},
     "output_type": "execute_result"
    }
   ],
   "source": [
    "merged_df.dtypes"
   ]
  },
  {
   "cell_type": "code",
   "execution_count": 6,
   "id": "1015f6b7-a420-44a0-8e49-c95c5e626901",
   "metadata": {},
   "outputs": [],
   "source": [
    "merged_df ['ride_id'] = merged_df ['ride_id'].astype(str)\n",
    "merged_df ['rideable_type'] = merged_df ['rideable_type'].astype(str)"
   ]
  },
  {
   "cell_type": "code",
   "execution_count": 7,
   "id": "be1fb0eb-7d77-4dd1-8f17-39a6c3d6334c",
   "metadata": {},
   "outputs": [
    {
     "data": {
      "text/html": [
       "<div>\n",
       "<style scoped>\n",
       "    .dataframe tbody tr th:only-of-type {\n",
       "        vertical-align: middle;\n",
       "    }\n",
       "\n",
       "    .dataframe tbody tr th {\n",
       "        vertical-align: top;\n",
       "    }\n",
       "\n",
       "    .dataframe thead th {\n",
       "        text-align: right;\n",
       "    }\n",
       "</style>\n",
       "<table border=\"1\" class=\"dataframe\">\n",
       "  <thead>\n",
       "    <tr style=\"text-align: right;\">\n",
       "      <th></th>\n",
       "      <th>start_lat</th>\n",
       "      <th>start_lng</th>\n",
       "      <th>end_lat</th>\n",
       "      <th>end_lng</th>\n",
       "    </tr>\n",
       "  </thead>\n",
       "  <tbody>\n",
       "    <tr>\n",
       "      <th>count</th>\n",
       "      <td>2,160,311.00</td>\n",
       "      <td>2,160,311.00</td>\n",
       "      <td>2,158,523.00</td>\n",
       "      <td>2,158,523.00</td>\n",
       "    </tr>\n",
       "    <tr>\n",
       "      <th>mean</th>\n",
       "      <td>41.90</td>\n",
       "      <td>-87.65</td>\n",
       "      <td>41.90</td>\n",
       "      <td>-87.65</td>\n",
       "    </tr>\n",
       "    <tr>\n",
       "      <th>std</th>\n",
       "      <td>0.05</td>\n",
       "      <td>0.03</td>\n",
       "      <td>0.09</td>\n",
       "      <td>0.17</td>\n",
       "    </tr>\n",
       "    <tr>\n",
       "      <th>min</th>\n",
       "      <td>41.64</td>\n",
       "      <td>-87.84</td>\n",
       "      <td>0.00</td>\n",
       "      <td>-87.92</td>\n",
       "    </tr>\n",
       "    <tr>\n",
       "      <th>25%</th>\n",
       "      <td>41.88</td>\n",
       "      <td>-87.66</td>\n",
       "      <td>41.88</td>\n",
       "      <td>-87.66</td>\n",
       "    </tr>\n",
       "    <tr>\n",
       "      <th>50%</th>\n",
       "      <td>41.90</td>\n",
       "      <td>-87.64</td>\n",
       "      <td>41.90</td>\n",
       "      <td>-87.65</td>\n",
       "    </tr>\n",
       "    <tr>\n",
       "      <th>75%</th>\n",
       "      <td>41.93</td>\n",
       "      <td>-87.63</td>\n",
       "      <td>41.93</td>\n",
       "      <td>-87.63</td>\n",
       "    </tr>\n",
       "    <tr>\n",
       "      <th>max</th>\n",
       "      <td>42.07</td>\n",
       "      <td>-87.52</td>\n",
       "      <td>42.15</td>\n",
       "      <td>0.00</td>\n",
       "    </tr>\n",
       "  </tbody>\n",
       "</table>\n",
       "</div>"
      ],
      "text/plain": [
       "         start_lat    start_lng      end_lat      end_lng\n",
       "count 2,160,311.00 2,160,311.00 2,158,523.00 2,158,523.00\n",
       "mean         41.90       -87.65        41.90       -87.65\n",
       "std           0.05         0.03         0.09         0.17\n",
       "min          41.64       -87.84         0.00       -87.92\n",
       "25%          41.88       -87.66        41.88       -87.66\n",
       "50%          41.90       -87.64        41.90       -87.65\n",
       "75%          41.93       -87.63        41.93       -87.63\n",
       "max          42.07       -87.52        42.15         0.00"
      ]
     },
     "execution_count": 7,
     "metadata": {},
     "output_type": "execute_result"
    }
   ],
   "source": [
    "merged_df.describe()"
   ]
  },
  {
   "cell_type": "code",
   "execution_count": 8,
   "id": "714854d8-e75c-4ff9-a32c-794449120964",
   "metadata": {},
   "outputs": [
    {
     "data": {
      "text/plain": [
       "count              2160311\n",
       "unique             2160311\n",
       "top       5156990AC19CA285\n",
       "freq                     1\n",
       "Name: ride_id, dtype: object"
      ]
     },
     "execution_count": 8,
     "metadata": {},
     "output_type": "execute_result"
    }
   ],
   "source": [
    "merged_df['ride_id'].describe()"
   ]
  },
  {
   "cell_type": "code",
   "execution_count": 9,
   "id": "5f556d13-cdd3-43a6-89fa-ea2d7951fa88",
   "metadata": {},
   "outputs": [
    {
     "name": "stdout",
     "output_type": "stream",
     "text": [
      "ride_id\n",
      "16    2160311\n",
      "Name: ride_id, dtype: int64\n"
     ]
    }
   ],
   "source": [
    "rideidlength = merged_df.groupby(merged_df['ride_id'].str.len())['ride_id'].count()\n",
    "print(rideidlength)"
   ]
  },
  {
   "cell_type": "code",
   "execution_count": 10,
   "id": "48b2fac4-1582-47cc-ab6c-40c03a048186",
   "metadata": {},
   "outputs": [
    {
     "data": {
      "text/plain": [
       "(array(['electric_bike', 'classic_bike', 'docked_bike'], dtype=object),\n",
       " rideable_type\n",
       " electric_bike    1198292\n",
       " classic_bike      917835\n",
       " docked_bike        44184\n",
       " Name: count, dtype: int64)"
      ]
     },
     "execution_count": 10,
     "metadata": {},
     "output_type": "execute_result"
    }
   ],
   "source": [
    "merged_df['rideable_type'].unique(), merged_df['rideable_type'].value_counts()"
   ]
  },
  {
   "cell_type": "code",
   "execution_count": 11,
   "id": "2b117930-935b-46e5-a148-8594f2403113",
   "metadata": {},
   "outputs": [
    {
     "data": {
      "text/plain": [
       "0    electricbike\n",
       "1    electricbike\n",
       "Name: rideable_type, dtype: object"
      ]
     },
     "execution_count": 11,
     "metadata": {},
     "output_type": "execute_result"
    }
   ],
   "source": [
    "merged_df['rideable_type'] = merged_df['rideable_type'].str.replace('_','')\n",
    "merged_df['rideable_type'].head(2)"
   ]
  },
  {
   "cell_type": "code",
   "execution_count": 12,
   "id": "f5b516de-6256-44f8-834a-c68a38bd2816",
   "metadata": {},
   "outputs": [
    {
     "data": {
      "text/html": [
       "<div>\n",
       "<style scoped>\n",
       "    .dataframe tbody tr th:only-of-type {\n",
       "        vertical-align: middle;\n",
       "    }\n",
       "\n",
       "    .dataframe tbody tr th {\n",
       "        vertical-align: top;\n",
       "    }\n",
       "\n",
       "    .dataframe thead th {\n",
       "        text-align: right;\n",
       "    }\n",
       "</style>\n",
       "<table border=\"1\" class=\"dataframe\">\n",
       "  <thead>\n",
       "    <tr style=\"text-align: right;\">\n",
       "      <th></th>\n",
       "      <th>ride_id</th>\n",
       "      <th>rideable_type</th>\n",
       "      <th>started_at</th>\n",
       "      <th>ended_at</th>\n",
       "      <th>start_station_name</th>\n",
       "      <th>start_station_id</th>\n",
       "      <th>end_station_name</th>\n",
       "      <th>end_station_id</th>\n",
       "      <th>start_lat</th>\n",
       "      <th>start_lng</th>\n",
       "      <th>end_lat</th>\n",
       "      <th>end_lng</th>\n",
       "      <th>member_casual</th>\n",
       "    </tr>\n",
       "  </thead>\n",
       "  <tbody>\n",
       "    <tr>\n",
       "      <th>10882</th>\n",
       "      <td>DFD2D8549F460DB5</td>\n",
       "      <td>dockedbike</td>\n",
       "      <td>2022-09-17 19:46:33</td>\n",
       "      <td>2022-10-01 18:51:47</td>\n",
       "      <td>California Ave &amp; Milwaukee Ave</td>\n",
       "      <td>13084</td>\n",
       "      <td>NaN</td>\n",
       "      <td>NaN</td>\n",
       "      <td>41.92</td>\n",
       "      <td>-87.70</td>\n",
       "      <td>NaN</td>\n",
       "      <td>NaN</td>\n",
       "      <td>casual</td>\n",
       "    </tr>\n",
       "    <tr>\n",
       "      <th>11232</th>\n",
       "      <td>BD873237D91827B5</td>\n",
       "      <td>dockedbike</td>\n",
       "      <td>2022-09-04 19:21:23</td>\n",
       "      <td>2022-09-04 20:26:07</td>\n",
       "      <td>Vernon Ave &amp; 107th St</td>\n",
       "      <td>20109</td>\n",
       "      <td>Vernon Ave &amp; 107th St</td>\n",
       "      <td>20109</td>\n",
       "      <td>41.70</td>\n",
       "      <td>-87.61</td>\n",
       "      <td>41.70</td>\n",
       "      <td>-87.61</td>\n",
       "      <td>casual</td>\n",
       "    </tr>\n",
       "  </tbody>\n",
       "</table>\n",
       "</div>"
      ],
      "text/plain": [
       "                ride_id rideable_type           started_at  \\\n",
       "10882  DFD2D8549F460DB5    dockedbike  2022-09-17 19:46:33   \n",
       "11232  BD873237D91827B5    dockedbike  2022-09-04 19:21:23   \n",
       "\n",
       "                  ended_at              start_station_name start_station_id  \\\n",
       "10882  2022-10-01 18:51:47  California Ave & Milwaukee Ave            13084   \n",
       "11232  2022-09-04 20:26:07           Vernon Ave & 107th St            20109   \n",
       "\n",
       "            end_station_name end_station_id  start_lat  start_lng  end_lat  \\\n",
       "10882                    NaN            NaN      41.92     -87.70      NaN   \n",
       "11232  Vernon Ave & 107th St          20109      41.70     -87.61    41.70   \n",
       "\n",
       "       end_lng member_casual  \n",
       "10882      NaN        casual  \n",
       "11232   -87.61        casual  "
      ]
     },
     "execution_count": 12,
     "metadata": {},
     "output_type": "execute_result"
    }
   ],
   "source": [
    "merged_df[merged_df['rideable_type'] == 'dockedbike'].head(2)"
   ]
  },
  {
   "cell_type": "code",
   "execution_count": 13,
   "id": "48470db7-e876-4adb-8ff7-98854683eb8c",
   "metadata": {},
   "outputs": [
    {
     "data": {
      "text/plain": [
       "Index(['rideid', 'rideabletype', 'startedat', 'endedat', 'startstationname',\n",
       "       'startstationid', 'endstationname', 'endstationid', 'startlat',\n",
       "       'startlng', 'endlat', 'endlng', 'membercasual'],\n",
       "      dtype='object')"
      ]
     },
     "execution_count": 13,
     "metadata": {},
     "output_type": "execute_result"
    }
   ],
   "source": [
    "merged_df.columns = merged_df.columns.str.replace('_','')\n",
    "merged_df.columns"
   ]
  },
  {
   "cell_type": "code",
   "execution_count": 14,
   "id": "cba8fa68-6c20-407d-bc6d-bc62c5810577",
   "metadata": {},
   "outputs": [
    {
     "data": {
      "text/plain": [
       "(0, 0)"
      ]
     },
     "execution_count": 14,
     "metadata": {},
     "output_type": "execute_result"
    }
   ],
   "source": [
    "merged_df['startedat'].isnull().sum() , merged_df['endedat'].isnull().sum()"
   ]
  },
  {
   "cell_type": "code",
   "execution_count": 15,
   "id": "79c9cd72-7ae0-4133-8cd4-b2baecb749d8",
   "metadata": {},
   "outputs": [
    {
     "data": {
      "text/plain": [
       "2160311"
      ]
     },
     "execution_count": 15,
     "metadata": {},
     "output_type": "execute_result"
    }
   ],
   "source": [
    "merged_df['startedat'].count()"
   ]
  },
  {
   "cell_type": "code",
   "execution_count": 16,
   "id": "4e996043-64e9-46ed-9de9-0829160d296b",
   "metadata": {},
   "outputs": [],
   "source": [
    "merged_df ['startedat'] = pd.to_datetime(merged_df['startedat'])"
   ]
  },
  {
   "cell_type": "code",
   "execution_count": 17,
   "id": "35626a93-5959-4e09-ad67-acfc11ba3b07",
   "metadata": {},
   "outputs": [
    {
     "data": {
      "text/plain": [
       "startedat\n",
       "19    2160311\n",
       "Name: count, dtype: int64"
      ]
     },
     "execution_count": 17,
     "metadata": {},
     "output_type": "execute_result"
    }
   ],
   "source": [
    "startlength = merged_df['startedat'].apply(lambda x: len(str(x))) \n",
    "countstart = startlength.value_counts()\n",
    "countstart"
   ]
  },
  {
   "cell_type": "code",
   "execution_count": 18,
   "id": "2f4111fd-284f-4a22-a502-844cd2a7352f",
   "metadata": {},
   "outputs": [
    {
     "data": {
      "text/plain": [
       "1831742"
      ]
     },
     "execution_count": 18,
     "metadata": {},
     "output_type": "execute_result"
    }
   ],
   "source": [
    "ststationcount = merged_df['startstationname'].count()\n",
    "ststationcount"
   ]
  },
  {
   "cell_type": "code",
   "execution_count": 19,
   "id": "f959b60a-aaba-4953-8756-fb421596e3e5",
   "metadata": {},
   "outputs": [
    {
     "data": {
      "text/plain": [
       "2160311"
      ]
     },
     "execution_count": 19,
     "metadata": {},
     "output_type": "execute_result"
    }
   ],
   "source": [
    "merged_df['endedat'].count()"
   ]
  },
  {
   "cell_type": "code",
   "execution_count": 20,
   "id": "7a796bad-5560-477c-80f5-e32962506a29",
   "metadata": {},
   "outputs": [],
   "source": [
    "merged_df ['endedat'] = pd.to_datetime(merged_df['endedat'])"
   ]
  },
  {
   "cell_type": "code",
   "execution_count": 21,
   "id": "416b43be-65b1-4631-aa79-a4233c255745",
   "metadata": {},
   "outputs": [
    {
     "data": {
      "text/plain": [
       "endedat\n",
       "19    2160311\n",
       "Name: count, dtype: int64"
      ]
     },
     "execution_count": 21,
     "metadata": {},
     "output_type": "execute_result"
    }
   ],
   "source": [
    "endlength = merged_df['endedat'].apply(lambda x: len(str(x))) \n",
    "countend = endlength.value_counts()\n",
    "countend"
   ]
  },
  {
   "cell_type": "code",
   "execution_count": 22,
   "id": "e59d5315-8750-4d22-98ae-a66da1da2aa0",
   "metadata": {},
   "outputs": [
    {
     "data": {
      "text/plain": [
       "55"
      ]
     },
     "execution_count": 22,
     "metadata": {},
     "output_type": "execute_result"
    }
   ],
   "source": [
    "durationalter = (merged_df['startedat'] > merged_df['endedat']).sum()\n",
    "durationalter"
   ]
  },
  {
   "cell_type": "code",
   "execution_count": 23,
   "id": "87bd2dd9-c79d-4d29-aa95-d90a226ec49c",
   "metadata": {},
   "outputs": [],
   "source": [
    "merged_df.loc[merged_df['startedat'] > merged_df['endedat'], ['startedat', 'endedat']] = \\\n",
    "    merged_df.loc[merged_df['startedat'] > merged_df['endedat'], ['endedat', 'startedat']].values"
   ]
  },
  {
   "cell_type": "code",
   "execution_count": 24,
   "id": "5d957be2-ab0d-49d6-818d-fcf8bf1e0946",
   "metadata": {},
   "outputs": [
    {
     "data": {
      "text/plain": [
       "0"
      ]
     },
     "execution_count": 24,
     "metadata": {},
     "output_type": "execute_result"
    }
   ],
   "source": [
    "swapmerged_df = (merged_df['startedat'] > merged_df['endedat']).sum()\n",
    "swapmerged_df"
   ]
  },
  {
   "cell_type": "code",
   "execution_count": 25,
   "id": "6efa5519-0e45-439e-b145-e5c5fa46931f",
   "metadata": {},
   "outputs": [
    {
     "data": {
      "text/plain": [
       "rideid              1615\n",
       "rideabletype        1615\n",
       "startedat           1615\n",
       "endedat             1615\n",
       "startstationname    1615\n",
       "startstationid      1615\n",
       "endstationname        30\n",
       "endstationid          30\n",
       "startlat            1615\n",
       "startlng            1615\n",
       "endlat                50\n",
       "endlng                50\n",
       "membercasual        1615\n",
       "dtype: int64"
      ]
     },
     "execution_count": 25,
     "metadata": {},
     "output_type": "execute_result"
    }
   ],
   "source": [
    "duration_minutes = ((merged_df['endedat'] - merged_df['startedat']).dt.total_seconds() / 60)\n",
    "long_durations = (merged_df[duration_minutes >= 1440]).count()\n",
    "long_durations"
   ]
  },
  {
   "cell_type": "code",
   "execution_count": 26,
   "id": "8ddc6698-df23-4a40-ae8d-12d42762a281",
   "metadata": {},
   "outputs": [
    {
     "data": {
      "text/plain": [
       "rideid              53773\n",
       "rideabletype        53773\n",
       "startedat           53773\n",
       "endedat             53773\n",
       "startstationname    39349\n",
       "startstationid      39342\n",
       "endstationname      34172\n",
       "endstationid        34169\n",
       "startlat            53773\n",
       "startlng            53773\n",
       "endlat              53773\n",
       "endlng              53773\n",
       "membercasual        53773\n",
       "dtype: int64"
      ]
     },
     "execution_count": 26,
     "metadata": {},
     "output_type": "execute_result"
    }
   ],
   "source": [
    "duration_minutes = ((merged_df['endedat'] - merged_df['startedat']).dt.total_seconds() / 60)\n",
    "short_durations = (merged_df[duration_minutes <= 1]).count()\n",
    "short_durations"
   ]
  },
  {
   "cell_type": "code",
   "execution_count": 27,
   "id": "4dd8963e-0dbc-4a5c-af7c-5732bfe6aae1",
   "metadata": {},
   "outputs": [
    {
     "data": {
      "text/plain": [
       "1831742"
      ]
     },
     "execution_count": 27,
     "metadata": {},
     "output_type": "execute_result"
    }
   ],
   "source": [
    "ststationcount = merged_df['startstationname'].count()\n",
    "ststationcount"
   ]
  },
  {
   "cell_type": "code",
   "execution_count": 28,
   "id": "9fdb54a1-61bf-4266-ae96-23d55f508be0",
   "metadata": {},
   "outputs": [
    {
     "data": {
      "text/plain": [
       "Index(['Public Rack - Kostner Ave & Armitage Ave',\n",
       "       'Milwaukee Ave & Cuyler Ave', 'Chicago State University',\n",
       "       'Ridge Blvd & Touhy Ave', 'DuSable Museum', 'Whipple/Irving Park',\n",
       "       'Pulaski Rd & Eddy St (Temp)', 'Kenosha & Wellington',\n",
       "       'Dorchester Ave & 63rd St', 'Malcolm X College Vaccination Site',\n",
       "       ...\n",
       "       'Walden Pkwy & 99th St', 'Avenue L & 114th St',\n",
       "       'Public Rack - East End Ave & 75th St', 'Ashland Ave & 76th St',\n",
       "       'William Rainey Harper High School',\n",
       "       'Public Rack - Oakley Ave & 50th Pl',\n",
       "       'Public Rack - Richmond St & Thorndale Ave',\n",
       "       'Public Rack - Union Ave & 111th St', 'Calumet Ave & 103rd St',\n",
       "       'Public Rack - Halsted St & 80th St'],\n",
       "      dtype='object', name='startstationname', length=852)"
      ]
     },
     "execution_count": 28,
     "metadata": {},
     "output_type": "execute_result"
    }
   ],
   "source": [
    "stationcount = merged_df['startstationname'].value_counts()\n",
    "station_remove = stationcount.index[stationcount <= 328]\n",
    "station_remove"
   ]
  },
  {
   "cell_type": "code",
   "execution_count": 29,
   "id": "4a05a4f7-cb59-47af-b985-81e8f50bf6ed",
   "metadata": {},
   "outputs": [],
   "source": [
    "merged_df = merged_df.drop(merged_df[merged_df['startstationname'].isin(station_remove)].index)"
   ]
  },
  {
   "cell_type": "code",
   "execution_count": 30,
   "id": "2bd4817c-4d0a-4313-95a5-f9c24b9c25fe",
   "metadata": {},
   "outputs": [
    {
     "data": {
      "text/plain": [
       "1784107"
      ]
     },
     "execution_count": 30,
     "metadata": {},
     "output_type": "execute_result"
    }
   ],
   "source": [
    "enstationcount = merged_df['endstationname'].count()\n",
    "enstationcount"
   ]
  },
  {
   "cell_type": "code",
   "execution_count": 31,
   "id": "3f2caeba-f4d6-47f3-a851-9e518df1f7c9",
   "metadata": {},
   "outputs": [
    {
     "data": {
      "text/plain": [
       "Index(['Narragansett & Wrightwood', 'Whipple/Irving Park',\n",
       "       'Public Rack - Kostner Ave & Armitage Ave',\n",
       "       'Sacramento Blvd & Franklin Blvd', 'W Washington Blvd & N Peoria St',\n",
       "       'Campbell Ave & Montrose Ave (Temp)', 'Valli Produce - Evanston Plaza',\n",
       "       'Wolcott Ave & Fargo Ave', 'Lincolnwood Dr & Central St',\n",
       "       'Fairfield Ave & Roosevelt Rd',\n",
       "       ...\n",
       "       'Public Rack - Halsted St & 102nd St',\n",
       "       'Public Rack - Kedzie Ave & Pershing Rd',\n",
       "       'Public Rack - Green St & 103rd St',\n",
       "       'Public Rack - Cicero Ave & Le Moyne St - midblock',\n",
       "       'Public Rack - Cottage Grove Ave & 111th St', 'Avenue O & 118th St',\n",
       "       'Vernon Ave & 79th St', 'Public Rack - 10557 S Western Ave',\n",
       "       'Langley Ave & 79th St', 'Public Rack - James Madison School'],\n",
       "      dtype='object', name='endstationname', length=767)"
      ]
     },
     "execution_count": 31,
     "metadata": {},
     "output_type": "execute_result"
    }
   ],
   "source": [
    "enstationcount = merged_df['endstationname'].value_counts()\n",
    "enstation_remove = enstationcount.index[enstationcount <= 220]\n",
    "enstation_remove"
   ]
  },
  {
   "cell_type": "code",
   "execution_count": 32,
   "id": "21dfb106-9820-4b17-a0b8-a772cf93657c",
   "metadata": {},
   "outputs": [],
   "source": [
    "merged_df = merged_df.drop(merged_df[merged_df['endstationname'].isin(enstation_remove)].index)"
   ]
  },
  {
   "cell_type": "code",
   "execution_count": 33,
   "id": "37b065a3-f20d-47ce-b713-161fe268aadc",
   "metadata": {},
   "outputs": [
    {
     "data": {
      "text/plain": [
       "1762907"
      ]
     },
     "execution_count": 33,
     "metadata": {},
     "output_type": "execute_result"
    }
   ],
   "source": [
    "enstationcount = merged_df['endstationname'].count()\n",
    "enstationcount"
   ]
  },
  {
   "cell_type": "code",
   "execution_count": 34,
   "id": "4b29be08-f049-493f-8ef6-e0be36a6fc65",
   "metadata": {},
   "outputs": [
    {
     "data": {
      "text/plain": [
       "rideid                   0\n",
       "rideabletype             0\n",
       "startedat                0\n",
       "endedat                  0\n",
       "startstationname    318657\n",
       "startstationid      318657\n",
       "endstationname      334546\n",
       "endstationid        334546\n",
       "startlat                 0\n",
       "startlng                 0\n",
       "endlat                1499\n",
       "endlng                1499\n",
       "membercasual             0\n",
       "dtype: int64"
      ]
     },
     "execution_count": 34,
     "metadata": {},
     "output_type": "execute_result"
    }
   ],
   "source": [
    "merged_df.isnull().sum()"
   ]
  },
  {
   "cell_type": "code",
   "execution_count": 35,
   "id": "91d39f56-baff-440d-be28-5ea261feb6a5",
   "metadata": {},
   "outputs": [
    {
     "name": "stdout",
     "output_type": "stream",
     "text": [
      "Start lat null count: 0 Start lng null count: 0 End lat null count: 1499 End lng null count: 1499 .\n"
     ]
    }
   ],
   "source": [
    "slat = merged_df['startlat'].isnull().sum()\n",
    "slng = merged_df['startlng'].isnull().sum()\n",
    "elat = merged_df['endlat'].isnull().sum()\n",
    "elng = merged_df['endlng'].isnull().sum()\n",
    "print (\"Start lat null count:\", slat, \"Start lng null count:\", slng, \"End lat null count:\", elat, \"End lng null count:\", elng, \".\")"
   ]
  },
  {
   "cell_type": "code",
   "execution_count": 36,
   "id": "2300f12c-ea2a-4b22-8139-f4aa747fa056",
   "metadata": {},
   "outputs": [
    {
     "data": {
      "text/plain": [
       "(318657, 318657)"
      ]
     },
     "execution_count": 36,
     "metadata": {},
     "output_type": "execute_result"
    }
   ],
   "source": [
    "merged_df['startstationid'].isnull().sum(), merged_df['startstationname'].isnull().sum()"
   ]
  },
  {
   "cell_type": "code",
   "execution_count": 37,
   "id": "985d8bb6-0890-4ef4-9065-92b075d898fe",
   "metadata": {
    "scrolled": true
   },
   "outputs": [
    {
     "data": {
      "text/plain": [
       "(1778796, 1778796)"
      ]
     },
     "execution_count": 37,
     "metadata": {},
     "output_type": "execute_result"
    }
   ],
   "source": [
    "merged_df['startstationname'].count(), merged_df['startstationid'].count()"
   ]
  },
  {
   "cell_type": "code",
   "execution_count": 38,
   "id": "b7b3b7d2-a4b0-4bbe-9c56-c58cfa010592",
   "metadata": {},
   "outputs": [
    {
     "data": {
      "text/html": [
       "<div>\n",
       "<style scoped>\n",
       "    .dataframe tbody tr th:only-of-type {\n",
       "        vertical-align: middle;\n",
       "    }\n",
       "\n",
       "    .dataframe tbody tr th {\n",
       "        vertical-align: top;\n",
       "    }\n",
       "\n",
       "    .dataframe thead th {\n",
       "        text-align: right;\n",
       "    }\n",
       "</style>\n",
       "<table border=\"1\" class=\"dataframe\">\n",
       "  <thead>\n",
       "    <tr style=\"text-align: right;\">\n",
       "      <th></th>\n",
       "      <th>startstationid</th>\n",
       "      <th>startstationname</th>\n",
       "    </tr>\n",
       "  </thead>\n",
       "  <tbody>\n",
       "    <tr>\n",
       "      <th>22</th>\n",
       "      <td>KA1504000106</td>\n",
       "      <td>Kedzie Ave &amp; Lake St</td>\n",
       "    </tr>\n",
       "    <tr>\n",
       "      <th>1647</th>\n",
       "      <td>KA1504000106</td>\n",
       "      <td>Kedzie Ave &amp; Lake St</td>\n",
       "    </tr>\n",
       "    <tr>\n",
       "      <th>1989</th>\n",
       "      <td>KA1504000106</td>\n",
       "      <td>Kedzie Ave &amp; Lake St</td>\n",
       "    </tr>\n",
       "    <tr>\n",
       "      <th>6393</th>\n",
       "      <td>KA1504000106</td>\n",
       "      <td>Kedzie Ave &amp; Lake St</td>\n",
       "    </tr>\n",
       "    <tr>\n",
       "      <th>6630</th>\n",
       "      <td>KA1504000106</td>\n",
       "      <td>Kedzie Ave &amp; Lake St</td>\n",
       "    </tr>\n",
       "    <tr>\n",
       "      <th>...</th>\n",
       "      <td>...</td>\n",
       "      <td>...</td>\n",
       "    </tr>\n",
       "    <tr>\n",
       "      <th>2157117</th>\n",
       "      <td>KA1504000106</td>\n",
       "      <td>Kedzie Ave &amp; Lake St</td>\n",
       "    </tr>\n",
       "    <tr>\n",
       "      <th>2157430</th>\n",
       "      <td>KA1504000106</td>\n",
       "      <td>Kedzie Ave &amp; Lake St</td>\n",
       "    </tr>\n",
       "    <tr>\n",
       "      <th>2157455</th>\n",
       "      <td>KA1504000106</td>\n",
       "      <td>Kedzie Ave &amp; Lake St</td>\n",
       "    </tr>\n",
       "    <tr>\n",
       "      <th>2157456</th>\n",
       "      <td>KA1504000106</td>\n",
       "      <td>Kedzie Ave &amp; Lake St</td>\n",
       "    </tr>\n",
       "    <tr>\n",
       "      <th>2157501</th>\n",
       "      <td>KA1504000106</td>\n",
       "      <td>Kedzie Ave &amp; Lake St</td>\n",
       "    </tr>\n",
       "  </tbody>\n",
       "</table>\n",
       "<p>378 rows × 2 columns</p>\n",
       "</div>"
      ],
      "text/plain": [
       "        startstationid      startstationname\n",
       "22        KA1504000106  Kedzie Ave & Lake St\n",
       "1647      KA1504000106  Kedzie Ave & Lake St\n",
       "1989      KA1504000106  Kedzie Ave & Lake St\n",
       "6393      KA1504000106  Kedzie Ave & Lake St\n",
       "6630      KA1504000106  Kedzie Ave & Lake St\n",
       "...                ...                   ...\n",
       "2157117   KA1504000106  Kedzie Ave & Lake St\n",
       "2157430   KA1504000106  Kedzie Ave & Lake St\n",
       "2157455   KA1504000106  Kedzie Ave & Lake St\n",
       "2157456   KA1504000106  Kedzie Ave & Lake St\n",
       "2157501   KA1504000106  Kedzie Ave & Lake St\n",
       "\n",
       "[378 rows x 2 columns]"
      ]
     },
     "execution_count": 38,
     "metadata": {},
     "output_type": "execute_result"
    }
   ],
   "source": [
    "filtered_df = merged_df[merged_df['startstationid'] == 'KA1504000106'][['startstationid', 'startstationname']]\n",
    "filtered_df"
   ]
  },
  {
   "cell_type": "code",
   "execution_count": 39,
   "id": "9041d94c-3c11-47d2-bc9f-e178509242c4",
   "metadata": {},
   "outputs": [
    {
     "data": {
      "text/html": [
       "<div>\n",
       "<style scoped>\n",
       "    .dataframe tbody tr th:only-of-type {\n",
       "        vertical-align: middle;\n",
       "    }\n",
       "\n",
       "    .dataframe tbody tr th {\n",
       "        vertical-align: top;\n",
       "    }\n",
       "\n",
       "    .dataframe thead th {\n",
       "        text-align: right;\n",
       "    }\n",
       "</style>\n",
       "<table border=\"1\" class=\"dataframe\">\n",
       "  <thead>\n",
       "    <tr style=\"text-align: right;\">\n",
       "      <th></th>\n",
       "      <th>startstationname</th>\n",
       "      <th>startstationid</th>\n",
       "    </tr>\n",
       "  </thead>\n",
       "  <tbody>\n",
       "    <tr>\n",
       "      <th>22</th>\n",
       "      <td>Kedzie Ave &amp; Lake St</td>\n",
       "      <td>KA1504000106</td>\n",
       "    </tr>\n",
       "    <tr>\n",
       "      <th>77</th>\n",
       "      <td>California Ave &amp; Division St</td>\n",
       "      <td>13256</td>\n",
       "    </tr>\n",
       "    <tr>\n",
       "      <th>80</th>\n",
       "      <td>Western Ave &amp; Roscoe St</td>\n",
       "      <td>15634</td>\n",
       "    </tr>\n",
       "    <tr>\n",
       "      <th>231</th>\n",
       "      <td>Western Ave &amp; Roscoe St</td>\n",
       "      <td>15634</td>\n",
       "    </tr>\n",
       "    <tr>\n",
       "      <th>376</th>\n",
       "      <td>Morgan Ave &amp; 14th Pl</td>\n",
       "      <td>TA1306000002</td>\n",
       "    </tr>\n",
       "    <tr>\n",
       "      <th>...</th>\n",
       "      <td>...</td>\n",
       "      <td>...</td>\n",
       "    </tr>\n",
       "    <tr>\n",
       "      <th>2160306</th>\n",
       "      <td>Clark St &amp; Wrightwood Ave</td>\n",
       "      <td>TA1305000014</td>\n",
       "    </tr>\n",
       "    <tr>\n",
       "      <th>2160307</th>\n",
       "      <td>Ogden Ave &amp; Roosevelt Rd</td>\n",
       "      <td>KA1504000101</td>\n",
       "    </tr>\n",
       "    <tr>\n",
       "      <th>2160308</th>\n",
       "      <td>Clark St &amp; Wrightwood Ave</td>\n",
       "      <td>TA1305000014</td>\n",
       "    </tr>\n",
       "    <tr>\n",
       "      <th>2160309</th>\n",
       "      <td>Clark St &amp; Wrightwood Ave</td>\n",
       "      <td>TA1305000014</td>\n",
       "    </tr>\n",
       "    <tr>\n",
       "      <th>2160310</th>\n",
       "      <td>Clark St &amp; Winnemac Ave</td>\n",
       "      <td>TA1309000035</td>\n",
       "    </tr>\n",
       "  </tbody>\n",
       "</table>\n",
       "<p>1778796 rows × 2 columns</p>\n",
       "</div>"
      ],
      "text/plain": [
       "                     startstationname startstationid\n",
       "22               Kedzie Ave & Lake St   KA1504000106\n",
       "77       California Ave & Division St          13256\n",
       "80            Western Ave & Roscoe St          15634\n",
       "231           Western Ave & Roscoe St          15634\n",
       "376              Morgan Ave & 14th Pl   TA1306000002\n",
       "...                               ...            ...\n",
       "2160306     Clark St & Wrightwood Ave   TA1305000014\n",
       "2160307      Ogden Ave & Roosevelt Rd   KA1504000101\n",
       "2160308     Clark St & Wrightwood Ave   TA1305000014\n",
       "2160309     Clark St & Wrightwood Ave   TA1305000014\n",
       "2160310       Clark St & Winnemac Ave   TA1309000035\n",
       "\n",
       "[1778796 rows x 2 columns]"
      ]
     },
     "execution_count": 39,
     "metadata": {},
     "output_type": "execute_result"
    }
   ],
   "source": [
    "startstation_df = merged_df[merged_df['startstationname'].notnull() & merged_df['startstationid'].notnull()][['startstationname', 'startstationid']]\n",
    "startstation_df "
   ]
  },
  {
   "cell_type": "code",
   "execution_count": 40,
   "id": "e5a5a049-94e4-4e96-9e08-d9ab970f60d4",
   "metadata": {},
   "outputs": [
    {
     "data": {
      "text/plain": [
       "count                     1778796\n",
       "unique                        518\n",
       "top       Streeter Dr & Grand Ave\n",
       "freq                        19254\n",
       "Name: startstationname, dtype: object"
      ]
     },
     "execution_count": 40,
     "metadata": {},
     "output_type": "execute_result"
    }
   ],
   "source": [
    "merged_df['startstationname'].describe()"
   ]
  },
  {
   "cell_type": "code",
   "execution_count": 41,
   "id": "ad1a5b72-d724-4db7-827c-5da0f0bf12c2",
   "metadata": {},
   "outputs": [
    {
     "data": {
      "text/html": [
       "<div>\n",
       "<style scoped>\n",
       "    .dataframe tbody tr th:only-of-type {\n",
       "        vertical-align: middle;\n",
       "    }\n",
       "\n",
       "    .dataframe tbody tr th {\n",
       "        vertical-align: top;\n",
       "    }\n",
       "\n",
       "    .dataframe thead th {\n",
       "        text-align: right;\n",
       "    }\n",
       "</style>\n",
       "<table border=\"1\" class=\"dataframe\">\n",
       "  <thead>\n",
       "    <tr style=\"text-align: right;\">\n",
       "      <th></th>\n",
       "      <th>endstationname</th>\n",
       "      <th>endstationid</th>\n",
       "    </tr>\n",
       "  </thead>\n",
       "  <tbody>\n",
       "    <tr>\n",
       "      <th>0</th>\n",
       "      <td>California Ave &amp; Milwaukee Ave</td>\n",
       "      <td>13084</td>\n",
       "    </tr>\n",
       "    <tr>\n",
       "      <th>14</th>\n",
       "      <td>California Ave &amp; Milwaukee Ave</td>\n",
       "      <td>13084</td>\n",
       "    </tr>\n",
       "    <tr>\n",
       "      <th>45</th>\n",
       "      <td>Wood St &amp; Chicago Ave</td>\n",
       "      <td>637</td>\n",
       "    </tr>\n",
       "    <tr>\n",
       "      <th>150</th>\n",
       "      <td>California Ave &amp; Division St</td>\n",
       "      <td>13256</td>\n",
       "    </tr>\n",
       "    <tr>\n",
       "      <th>228</th>\n",
       "      <td>California Ave &amp; Milwaukee Ave</td>\n",
       "      <td>13084</td>\n",
       "    </tr>\n",
       "    <tr>\n",
       "      <th>...</th>\n",
       "      <td>...</td>\n",
       "      <td>...</td>\n",
       "    </tr>\n",
       "    <tr>\n",
       "      <th>2160306</th>\n",
       "      <td>Sheffield Ave &amp; Waveland Ave</td>\n",
       "      <td>TA1307000126</td>\n",
       "    </tr>\n",
       "    <tr>\n",
       "      <th>2160307</th>\n",
       "      <td>Delano Ct &amp; Roosevelt Rd</td>\n",
       "      <td>KA1706005007</td>\n",
       "    </tr>\n",
       "    <tr>\n",
       "      <th>2160308</th>\n",
       "      <td>Canal St &amp; Madison St</td>\n",
       "      <td>13341</td>\n",
       "    </tr>\n",
       "    <tr>\n",
       "      <th>2160309</th>\n",
       "      <td>Canal St &amp; Madison St</td>\n",
       "      <td>13341</td>\n",
       "    </tr>\n",
       "    <tr>\n",
       "      <th>2160310</th>\n",
       "      <td>Sheffield Ave &amp; Waveland Ave</td>\n",
       "      <td>TA1307000126</td>\n",
       "    </tr>\n",
       "  </tbody>\n",
       "</table>\n",
       "<p>1762907 rows × 2 columns</p>\n",
       "</div>"
      ],
      "text/plain": [
       "                         endstationname  endstationid\n",
       "0        California Ave & Milwaukee Ave         13084\n",
       "14       California Ave & Milwaukee Ave         13084\n",
       "45                Wood St & Chicago Ave           637\n",
       "150        California Ave & Division St         13256\n",
       "228      California Ave & Milwaukee Ave         13084\n",
       "...                                 ...           ...\n",
       "2160306    Sheffield Ave & Waveland Ave  TA1307000126\n",
       "2160307        Delano Ct & Roosevelt Rd  KA1706005007\n",
       "2160308           Canal St & Madison St         13341\n",
       "2160309           Canal St & Madison St         13341\n",
       "2160310    Sheffield Ave & Waveland Ave  TA1307000126\n",
       "\n",
       "[1762907 rows x 2 columns]"
      ]
     },
     "execution_count": 41,
     "metadata": {},
     "output_type": "execute_result"
    }
   ],
   "source": [
    "endstation_df = merged_df[merged_df['endstationname'].notnull() & merged_df['endstationid'].notnull()][['endstationname','endstationid']]\n",
    "endstation_df"
   ]
  },
  {
   "cell_type": "code",
   "execution_count": 42,
   "id": "30c20eb4-3788-4375-8016-a023cc34d0cc",
   "metadata": {},
   "outputs": [
    {
     "data": {
      "text/plain": [
       "count                     1762907\n",
       "unique                        522\n",
       "top       Streeter Dr & Grand Ave\n",
       "freq                        19396\n",
       "Name: endstationname, dtype: object"
      ]
     },
     "execution_count": 42,
     "metadata": {},
     "output_type": "execute_result"
    }
   ],
   "source": [
    "merged_df['endstationname'].describe()"
   ]
  },
  {
   "cell_type": "code",
   "execution_count": 43,
   "id": "05e119b0-9202-444a-aae4-eb94eeb3aefb",
   "metadata": {},
   "outputs": [
    {
     "data": {
      "text/plain": [
       "startstationname\n",
       "Streeter Dr & Grand Ave      19254\n",
       "Ellis Ave & 60th St          14341\n",
       "University Ave & 57th St     14226\n",
       "Clark St & Elm St            13631\n",
       "Kingsbury St & Kinzie St     13458\n",
       "                             ...  \n",
       "Long & Irving Park             303\n",
       "Pulaski Rd & 51st St           213\n",
       "Narragansett & Wrightwood      198\n",
       "Princeton Ave & 47th St        141\n",
       "State St & 95th St              87\n",
       "Name: count, Length: 518, dtype: int64"
      ]
     },
     "execution_count": 43,
     "metadata": {},
     "output_type": "execute_result"
    }
   ],
   "source": [
    "merged_df['startstationname'].value_counts()"
   ]
  },
  {
   "cell_type": "code",
   "execution_count": 44,
   "id": "749456cb-170e-44cc-bf98-2f7b3a709789",
   "metadata": {},
   "outputs": [
    {
     "data": {
      "text/plain": [
       "Series([], Name: count, dtype: int64)"
      ]
     },
     "execution_count": 44,
     "metadata": {},
     "output_type": "execute_result"
    }
   ],
   "source": [
    "startcount = merged_df['startstationname'].value_counts()\n",
    "filteredstcount = startcount[startcount.index.str.contains('Public Rack')]\n",
    "filteredstcount"
   ]
  },
  {
   "cell_type": "code",
   "execution_count": 45,
   "id": "bd482fce-4866-48b4-a7fc-fc7726efb491",
   "metadata": {},
   "outputs": [
    {
     "data": {
      "text/plain": [
       "Series([], Name: count, dtype: int64)"
      ]
     },
     "execution_count": 45,
     "metadata": {},
     "output_type": "execute_result"
    }
   ],
   "source": [
    "endcount = merged_df['endstationname'].value_counts()\n",
    "filteredendcount = endcount[endcount.index.str.contains('Public Rack')]\n",
    "filteredendcount"
   ]
  },
  {
   "cell_type": "code",
   "execution_count": 46,
   "id": "41dba6a8-d59b-46aa-bebf-e2a37843cdae",
   "metadata": {},
   "outputs": [
    {
     "data": {
      "text/plain": [
       "Series([], Name: count, dtype: int64)"
      ]
     },
     "execution_count": 46,
     "metadata": {},
     "output_type": "execute_result"
    }
   ],
   "source": [
    "filtered_df = merged_df[~merged_df['endstationname'].isin(filteredendcount.index)]\n",
    "filteredendcount"
   ]
  },
  {
   "cell_type": "code",
   "execution_count": 47,
   "id": "b1e139e2-4205-423d-8aa8-a55f45d91507",
   "metadata": {},
   "outputs": [
    {
     "data": {
      "text/html": [
       "<div>\n",
       "<style scoped>\n",
       "    .dataframe tbody tr th:only-of-type {\n",
       "        vertical-align: middle;\n",
       "    }\n",
       "\n",
       "    .dataframe tbody tr th {\n",
       "        vertical-align: top;\n",
       "    }\n",
       "\n",
       "    .dataframe thead th {\n",
       "        text-align: right;\n",
       "    }\n",
       "</style>\n",
       "<table border=\"1\" class=\"dataframe\">\n",
       "  <thead>\n",
       "    <tr style=\"text-align: right;\">\n",
       "      <th></th>\n",
       "      <th>startstationname</th>\n",
       "    </tr>\n",
       "  </thead>\n",
       "  <tbody>\n",
       "    <tr>\n",
       "      <th>22</th>\n",
       "      <td>Kedzie Ave &amp; Lake St</td>\n",
       "    </tr>\n",
       "    <tr>\n",
       "      <th>77</th>\n",
       "      <td>California Ave &amp; Division St</td>\n",
       "    </tr>\n",
       "    <tr>\n",
       "      <th>80</th>\n",
       "      <td>Western Ave &amp; Roscoe St</td>\n",
       "    </tr>\n",
       "    <tr>\n",
       "      <th>231</th>\n",
       "      <td>Western Ave &amp; Roscoe St</td>\n",
       "    </tr>\n",
       "    <tr>\n",
       "      <th>376</th>\n",
       "      <td>Morgan Ave &amp; 14th Pl</td>\n",
       "    </tr>\n",
       "    <tr>\n",
       "      <th>...</th>\n",
       "      <td>...</td>\n",
       "    </tr>\n",
       "    <tr>\n",
       "      <th>2160306</th>\n",
       "      <td>Clark St &amp; Wrightwood Ave</td>\n",
       "    </tr>\n",
       "    <tr>\n",
       "      <th>2160307</th>\n",
       "      <td>Ogden Ave &amp; Roosevelt Rd</td>\n",
       "    </tr>\n",
       "    <tr>\n",
       "      <th>2160308</th>\n",
       "      <td>Clark St &amp; Wrightwood Ave</td>\n",
       "    </tr>\n",
       "    <tr>\n",
       "      <th>2160309</th>\n",
       "      <td>Clark St &amp; Wrightwood Ave</td>\n",
       "    </tr>\n",
       "    <tr>\n",
       "      <th>2160310</th>\n",
       "      <td>Clark St &amp; Winnemac Ave</td>\n",
       "    </tr>\n",
       "  </tbody>\n",
       "</table>\n",
       "<p>1778796 rows × 1 columns</p>\n",
       "</div>"
      ],
      "text/plain": [
       "                     startstationname\n",
       "22               Kedzie Ave & Lake St\n",
       "77       California Ave & Division St\n",
       "80            Western Ave & Roscoe St\n",
       "231           Western Ave & Roscoe St\n",
       "376              Morgan Ave & 14th Pl\n",
       "...                               ...\n",
       "2160306     Clark St & Wrightwood Ave\n",
       "2160307      Ogden Ave & Roosevelt Rd\n",
       "2160308     Clark St & Wrightwood Ave\n",
       "2160309     Clark St & Wrightwood Ave\n",
       "2160310       Clark St & Winnemac Ave\n",
       "\n",
       "[1778796 rows x 1 columns]"
      ]
     },
     "execution_count": 47,
     "metadata": {},
     "output_type": "execute_result"
    }
   ],
   "source": [
    "startstation_null = merged_df[merged_df['startstationname'].notnull()]['startstationname']\n",
    "startstation_null.to_frame()"
   ]
  },
  {
   "cell_type": "code",
   "execution_count": 48,
   "id": "277eefde-bb11-4344-924c-36c33b6efb37",
   "metadata": {},
   "outputs": [
    {
     "data": {
      "text/html": [
       "<div>\n",
       "<style scoped>\n",
       "    .dataframe tbody tr th:only-of-type {\n",
       "        vertical-align: middle;\n",
       "    }\n",
       "\n",
       "    .dataframe tbody tr th {\n",
       "        vertical-align: top;\n",
       "    }\n",
       "\n",
       "    .dataframe thead th {\n",
       "        text-align: right;\n",
       "    }\n",
       "</style>\n",
       "<table border=\"1\" class=\"dataframe\">\n",
       "  <thead>\n",
       "    <tr style=\"text-align: right;\">\n",
       "      <th></th>\n",
       "      <th>startstationname</th>\n",
       "      <th>endstationname</th>\n",
       "    </tr>\n",
       "  </thead>\n",
       "  <tbody>\n",
       "    <tr>\n",
       "      <th>387</th>\n",
       "      <td>California Ave &amp; Milwaukee Ave</td>\n",
       "      <td>California Ave &amp; Milwaukee Ave</td>\n",
       "    </tr>\n",
       "    <tr>\n",
       "      <th>388</th>\n",
       "      <td>California Ave &amp; Milwaukee Ave</td>\n",
       "      <td>California Ave &amp; Milwaukee Ave</td>\n",
       "    </tr>\n",
       "    <tr>\n",
       "      <th>400</th>\n",
       "      <td>Wood St &amp; Chicago Ave</td>\n",
       "      <td>Wood St &amp; Chicago Ave</td>\n",
       "    </tr>\n",
       "    <tr>\n",
       "      <th>964</th>\n",
       "      <td>California Ave &amp; Milwaukee Ave</td>\n",
       "      <td>California Ave &amp; Milwaukee Ave</td>\n",
       "    </tr>\n",
       "    <tr>\n",
       "      <th>971</th>\n",
       "      <td>California Ave &amp; Division St</td>\n",
       "      <td>California Ave &amp; Division St</td>\n",
       "    </tr>\n",
       "    <tr>\n",
       "      <th>...</th>\n",
       "      <td>...</td>\n",
       "      <td>...</td>\n",
       "    </tr>\n",
       "    <tr>\n",
       "      <th>2160306</th>\n",
       "      <td>Clark St &amp; Wrightwood Ave</td>\n",
       "      <td>Sheffield Ave &amp; Waveland Ave</td>\n",
       "    </tr>\n",
       "    <tr>\n",
       "      <th>2160307</th>\n",
       "      <td>Ogden Ave &amp; Roosevelt Rd</td>\n",
       "      <td>Delano Ct &amp; Roosevelt Rd</td>\n",
       "    </tr>\n",
       "    <tr>\n",
       "      <th>2160308</th>\n",
       "      <td>Clark St &amp; Wrightwood Ave</td>\n",
       "      <td>Canal St &amp; Madison St</td>\n",
       "    </tr>\n",
       "    <tr>\n",
       "      <th>2160309</th>\n",
       "      <td>Clark St &amp; Wrightwood Ave</td>\n",
       "      <td>Canal St &amp; Madison St</td>\n",
       "    </tr>\n",
       "    <tr>\n",
       "      <th>2160310</th>\n",
       "      <td>Clark St &amp; Winnemac Ave</td>\n",
       "      <td>Sheffield Ave &amp; Waveland Ave</td>\n",
       "    </tr>\n",
       "  </tbody>\n",
       "</table>\n",
       "<p>1599006 rows × 2 columns</p>\n",
       "</div>"
      ],
      "text/plain": [
       "                       startstationname                  endstationname\n",
       "387      California Ave & Milwaukee Ave  California Ave & Milwaukee Ave\n",
       "388      California Ave & Milwaukee Ave  California Ave & Milwaukee Ave\n",
       "400               Wood St & Chicago Ave           Wood St & Chicago Ave\n",
       "964      California Ave & Milwaukee Ave  California Ave & Milwaukee Ave\n",
       "971        California Ave & Division St    California Ave & Division St\n",
       "...                                 ...                             ...\n",
       "2160306       Clark St & Wrightwood Ave    Sheffield Ave & Waveland Ave\n",
       "2160307        Ogden Ave & Roosevelt Rd        Delano Ct & Roosevelt Rd\n",
       "2160308       Clark St & Wrightwood Ave           Canal St & Madison St\n",
       "2160309       Clark St & Wrightwood Ave           Canal St & Madison St\n",
       "2160310         Clark St & Winnemac Ave    Sheffield Ave & Waveland Ave\n",
       "\n",
       "[1599006 rows x 2 columns]"
      ]
     },
     "execution_count": 48,
     "metadata": {},
     "output_type": "execute_result"
    }
   ],
   "source": [
    "startendstation = merged_df[merged_df[['startstationname', 'endstationname']].notnull().all(axis=1)][['startstationname', 'endstationname']]\n",
    "startendstation"
   ]
  },
  {
   "cell_type": "code",
   "execution_count": 49,
   "id": "d3ca6a34-deea-4610-98fc-c688ab05bc24",
   "metadata": {},
   "outputs": [
    {
     "name": "stdout",
     "output_type": "stream",
     "text": [
      "Start station name null count: 318657 End station null count: 334546 Start station id null count: 318657 End station id null count: 334546 .\n"
     ]
    }
   ],
   "source": [
    "ssn = merged_df['startstationname'].isnull().sum()\n",
    "esn = merged_df['endstationname'].isnull().sum()\n",
    "ssi = merged_df['startstationid'].isnull().sum()\n",
    "esi = merged_df['endstationid'].isnull().sum()\n",
    "print (\"Start station name null count:\", ssn, \"End station null count:\", esn, \"Start station id null count:\", ssi, \"End station id null count:\", esi, \".\")"
   ]
  },
  {
   "cell_type": "code",
   "execution_count": 50,
   "id": "76e4f850-5f41-47a8-855e-0c5043efa7f5",
   "metadata": {},
   "outputs": [
    {
     "data": {
      "text/html": [
       "<div>\n",
       "<style scoped>\n",
       "    .dataframe tbody tr th:only-of-type {\n",
       "        vertical-align: middle;\n",
       "    }\n",
       "\n",
       "    .dataframe tbody tr th {\n",
       "        vertical-align: top;\n",
       "    }\n",
       "\n",
       "    .dataframe thead th {\n",
       "        text-align: right;\n",
       "    }\n",
       "</style>\n",
       "<table border=\"1\" class=\"dataframe\">\n",
       "  <thead>\n",
       "    <tr style=\"text-align: right;\">\n",
       "      <th></th>\n",
       "      <th>rideid</th>\n",
       "      <th>rideabletype</th>\n",
       "      <th>startedat</th>\n",
       "      <th>endedat</th>\n",
       "      <th>startstationname</th>\n",
       "      <th>startstationid</th>\n",
       "      <th>endstationname</th>\n",
       "      <th>endstationid</th>\n",
       "      <th>startlat</th>\n",
       "      <th>startlng</th>\n",
       "      <th>endlat</th>\n",
       "      <th>endlng</th>\n",
       "      <th>membercasual</th>\n",
       "    </tr>\n",
       "  </thead>\n",
       "  <tbody>\n",
       "    <tr>\n",
       "      <th>387</th>\n",
       "      <td>8C94D4680E7B1DBC</td>\n",
       "      <td>electricbike</td>\n",
       "      <td>2022-09-10 22:52:54</td>\n",
       "      <td>2022-09-10 22:53:43</td>\n",
       "      <td>California Ave &amp; Milwaukee Ave</td>\n",
       "      <td>13084</td>\n",
       "      <td>California Ave &amp; Milwaukee Ave</td>\n",
       "      <td>13084</td>\n",
       "      <td>41.92</td>\n",
       "      <td>-87.70</td>\n",
       "      <td>41.92</td>\n",
       "      <td>-87.70</td>\n",
       "      <td>casual</td>\n",
       "    </tr>\n",
       "    <tr>\n",
       "      <th>388</th>\n",
       "      <td>7FD174E61EBA0B99</td>\n",
       "      <td>electricbike</td>\n",
       "      <td>2022-09-10 22:58:27</td>\n",
       "      <td>2022-09-10 22:59:20</td>\n",
       "      <td>California Ave &amp; Milwaukee Ave</td>\n",
       "      <td>13084</td>\n",
       "      <td>California Ave &amp; Milwaukee Ave</td>\n",
       "      <td>13084</td>\n",
       "      <td>41.92</td>\n",
       "      <td>-87.70</td>\n",
       "      <td>41.92</td>\n",
       "      <td>-87.70</td>\n",
       "      <td>casual</td>\n",
       "    </tr>\n",
       "    <tr>\n",
       "      <th>400</th>\n",
       "      <td>B23F6CCA8AC89F52</td>\n",
       "      <td>electricbike</td>\n",
       "      <td>2022-09-11 18:35:31</td>\n",
       "      <td>2022-09-11 18:45:57</td>\n",
       "      <td>Wood St &amp; Chicago Ave</td>\n",
       "      <td>637</td>\n",
       "      <td>Wood St &amp; Chicago Ave</td>\n",
       "      <td>637</td>\n",
       "      <td>41.90</td>\n",
       "      <td>-87.67</td>\n",
       "      <td>41.90</td>\n",
       "      <td>-87.67</td>\n",
       "      <td>casual</td>\n",
       "    </tr>\n",
       "    <tr>\n",
       "      <th>964</th>\n",
       "      <td>2A39814848E1D54C</td>\n",
       "      <td>electricbike</td>\n",
       "      <td>2022-09-07 20:01:55</td>\n",
       "      <td>2022-09-07 20:19:24</td>\n",
       "      <td>California Ave &amp; Milwaukee Ave</td>\n",
       "      <td>13084</td>\n",
       "      <td>California Ave &amp; Milwaukee Ave</td>\n",
       "      <td>13084</td>\n",
       "      <td>41.92</td>\n",
       "      <td>-87.70</td>\n",
       "      <td>41.92</td>\n",
       "      <td>-87.70</td>\n",
       "      <td>casual</td>\n",
       "    </tr>\n",
       "    <tr>\n",
       "      <th>971</th>\n",
       "      <td>181A283DC7877573</td>\n",
       "      <td>electricbike</td>\n",
       "      <td>2022-09-08 17:00:30</td>\n",
       "      <td>2022-09-08 17:02:01</td>\n",
       "      <td>California Ave &amp; Division St</td>\n",
       "      <td>13256</td>\n",
       "      <td>California Ave &amp; Division St</td>\n",
       "      <td>13256</td>\n",
       "      <td>41.90</td>\n",
       "      <td>-87.70</td>\n",
       "      <td>41.90</td>\n",
       "      <td>-87.70</td>\n",
       "      <td>casual</td>\n",
       "    </tr>\n",
       "    <tr>\n",
       "      <th>...</th>\n",
       "      <td>...</td>\n",
       "      <td>...</td>\n",
       "      <td>...</td>\n",
       "      <td>...</td>\n",
       "      <td>...</td>\n",
       "      <td>...</td>\n",
       "      <td>...</td>\n",
       "      <td>...</td>\n",
       "      <td>...</td>\n",
       "      <td>...</td>\n",
       "      <td>...</td>\n",
       "      <td>...</td>\n",
       "      <td>...</td>\n",
       "    </tr>\n",
       "    <tr>\n",
       "      <th>2160306</th>\n",
       "      <td>C04510F8EBB5EE8A</td>\n",
       "      <td>classicbike</td>\n",
       "      <td>2023-02-08 21:57:22</td>\n",
       "      <td>2023-02-08 22:08:06</td>\n",
       "      <td>Clark St &amp; Wrightwood Ave</td>\n",
       "      <td>TA1305000014</td>\n",
       "      <td>Sheffield Ave &amp; Waveland Ave</td>\n",
       "      <td>TA1307000126</td>\n",
       "      <td>41.93</td>\n",
       "      <td>-87.64</td>\n",
       "      <td>41.95</td>\n",
       "      <td>-87.65</td>\n",
       "      <td>member</td>\n",
       "    </tr>\n",
       "    <tr>\n",
       "      <th>2160307</th>\n",
       "      <td>187BA364FB265C80</td>\n",
       "      <td>electricbike</td>\n",
       "      <td>2023-02-19 11:29:09</td>\n",
       "      <td>2023-02-19 11:39:11</td>\n",
       "      <td>Ogden Ave &amp; Roosevelt Rd</td>\n",
       "      <td>KA1504000101</td>\n",
       "      <td>Delano Ct &amp; Roosevelt Rd</td>\n",
       "      <td>KA1706005007</td>\n",
       "      <td>41.87</td>\n",
       "      <td>-87.68</td>\n",
       "      <td>41.87</td>\n",
       "      <td>-87.63</td>\n",
       "      <td>member</td>\n",
       "    </tr>\n",
       "    <tr>\n",
       "      <th>2160308</th>\n",
       "      <td>46B54F6B417D1B27</td>\n",
       "      <td>electricbike</td>\n",
       "      <td>2023-02-07 09:01:33</td>\n",
       "      <td>2023-02-07 09:16:53</td>\n",
       "      <td>Clark St &amp; Wrightwood Ave</td>\n",
       "      <td>TA1305000014</td>\n",
       "      <td>Canal St &amp; Madison St</td>\n",
       "      <td>13341</td>\n",
       "      <td>41.93</td>\n",
       "      <td>-87.64</td>\n",
       "      <td>41.88</td>\n",
       "      <td>-87.64</td>\n",
       "      <td>casual</td>\n",
       "    </tr>\n",
       "    <tr>\n",
       "      <th>2160309</th>\n",
       "      <td>335B3CAD59F6C016</td>\n",
       "      <td>electricbike</td>\n",
       "      <td>2023-02-22 08:33:22</td>\n",
       "      <td>2023-02-22 08:50:11</td>\n",
       "      <td>Clark St &amp; Wrightwood Ave</td>\n",
       "      <td>TA1305000014</td>\n",
       "      <td>Canal St &amp; Madison St</td>\n",
       "      <td>13341</td>\n",
       "      <td>41.93</td>\n",
       "      <td>-87.64</td>\n",
       "      <td>41.88</td>\n",
       "      <td>-87.64</td>\n",
       "      <td>casual</td>\n",
       "    </tr>\n",
       "    <tr>\n",
       "      <th>2160310</th>\n",
       "      <td>03D59518BB151EFA</td>\n",
       "      <td>classicbike</td>\n",
       "      <td>2023-02-01 21:52:17</td>\n",
       "      <td>2023-02-01 22:04:17</td>\n",
       "      <td>Clark St &amp; Winnemac Ave</td>\n",
       "      <td>TA1309000035</td>\n",
       "      <td>Sheffield Ave &amp; Waveland Ave</td>\n",
       "      <td>TA1307000126</td>\n",
       "      <td>41.97</td>\n",
       "      <td>-87.67</td>\n",
       "      <td>41.95</td>\n",
       "      <td>-87.65</td>\n",
       "      <td>member</td>\n",
       "    </tr>\n",
       "  </tbody>\n",
       "</table>\n",
       "<p>1599006 rows × 13 columns</p>\n",
       "</div>"
      ],
      "text/plain": [
       "                   rideid  rideabletype           startedat  \\\n",
       "387      8C94D4680E7B1DBC  electricbike 2022-09-10 22:52:54   \n",
       "388      7FD174E61EBA0B99  electricbike 2022-09-10 22:58:27   \n",
       "400      B23F6CCA8AC89F52  electricbike 2022-09-11 18:35:31   \n",
       "964      2A39814848E1D54C  electricbike 2022-09-07 20:01:55   \n",
       "971      181A283DC7877573  electricbike 2022-09-08 17:00:30   \n",
       "...                   ...           ...                 ...   \n",
       "2160306  C04510F8EBB5EE8A   classicbike 2023-02-08 21:57:22   \n",
       "2160307  187BA364FB265C80  electricbike 2023-02-19 11:29:09   \n",
       "2160308  46B54F6B417D1B27  electricbike 2023-02-07 09:01:33   \n",
       "2160309  335B3CAD59F6C016  electricbike 2023-02-22 08:33:22   \n",
       "2160310  03D59518BB151EFA   classicbike 2023-02-01 21:52:17   \n",
       "\n",
       "                    endedat                startstationname startstationid  \\\n",
       "387     2022-09-10 22:53:43  California Ave & Milwaukee Ave          13084   \n",
       "388     2022-09-10 22:59:20  California Ave & Milwaukee Ave          13084   \n",
       "400     2022-09-11 18:45:57           Wood St & Chicago Ave            637   \n",
       "964     2022-09-07 20:19:24  California Ave & Milwaukee Ave          13084   \n",
       "971     2022-09-08 17:02:01    California Ave & Division St          13256   \n",
       "...                     ...                             ...            ...   \n",
       "2160306 2023-02-08 22:08:06       Clark St & Wrightwood Ave   TA1305000014   \n",
       "2160307 2023-02-19 11:39:11        Ogden Ave & Roosevelt Rd   KA1504000101   \n",
       "2160308 2023-02-07 09:16:53       Clark St & Wrightwood Ave   TA1305000014   \n",
       "2160309 2023-02-22 08:50:11       Clark St & Wrightwood Ave   TA1305000014   \n",
       "2160310 2023-02-01 22:04:17         Clark St & Winnemac Ave   TA1309000035   \n",
       "\n",
       "                         endstationname  endstationid  startlat  startlng  \\\n",
       "387      California Ave & Milwaukee Ave         13084     41.92    -87.70   \n",
       "388      California Ave & Milwaukee Ave         13084     41.92    -87.70   \n",
       "400               Wood St & Chicago Ave           637     41.90    -87.67   \n",
       "964      California Ave & Milwaukee Ave         13084     41.92    -87.70   \n",
       "971        California Ave & Division St         13256     41.90    -87.70   \n",
       "...                                 ...           ...       ...       ...   \n",
       "2160306    Sheffield Ave & Waveland Ave  TA1307000126     41.93    -87.64   \n",
       "2160307        Delano Ct & Roosevelt Rd  KA1706005007     41.87    -87.68   \n",
       "2160308           Canal St & Madison St         13341     41.93    -87.64   \n",
       "2160309           Canal St & Madison St         13341     41.93    -87.64   \n",
       "2160310    Sheffield Ave & Waveland Ave  TA1307000126     41.97    -87.67   \n",
       "\n",
       "         endlat  endlng membercasual  \n",
       "387       41.92  -87.70       casual  \n",
       "388       41.92  -87.70       casual  \n",
       "400       41.90  -87.67       casual  \n",
       "964       41.92  -87.70       casual  \n",
       "971       41.90  -87.70       casual  \n",
       "...         ...     ...          ...  \n",
       "2160306   41.95  -87.65       member  \n",
       "2160307   41.87  -87.63       member  \n",
       "2160308   41.88  -87.64       casual  \n",
       "2160309   41.88  -87.64       casual  \n",
       "2160310   41.95  -87.65       member  \n",
       "\n",
       "[1599006 rows x 13 columns]"
      ]
     },
     "execution_count": 50,
     "metadata": {},
     "output_type": "execute_result"
    }
   ],
   "source": [
    "filtered_df = merged_df[merged_df['startstationname'].notnull() & \n",
    "merged_df['endstationname'].notnull() & \n",
    "merged_df['startstationid'].notnull() & \n",
    "merged_df['endstationid'].notnull() ]\n",
    "filtered_df"
   ]
  },
  {
   "cell_type": "code",
   "execution_count": 51,
   "id": "6e5ceb44-e6c8-4733-a03f-52ef3c8c6fa5",
   "metadata": {},
   "outputs": [
    {
     "data": {
      "text/html": [
       "<div>\n",
       "<style scoped>\n",
       "    .dataframe tbody tr th:only-of-type {\n",
       "        vertical-align: middle;\n",
       "    }\n",
       "\n",
       "    .dataframe tbody tr th {\n",
       "        vertical-align: top;\n",
       "    }\n",
       "\n",
       "    .dataframe thead th {\n",
       "        text-align: right;\n",
       "    }\n",
       "</style>\n",
       "<table border=\"1\" class=\"dataframe\">\n",
       "  <thead>\n",
       "    <tr style=\"text-align: right;\">\n",
       "      <th></th>\n",
       "      <th>startedat</th>\n",
       "      <th>endedat</th>\n",
       "      <th>startlat</th>\n",
       "      <th>startlng</th>\n",
       "      <th>endlat</th>\n",
       "      <th>endlng</th>\n",
       "    </tr>\n",
       "  </thead>\n",
       "  <tbody>\n",
       "    <tr>\n",
       "      <th>count</th>\n",
       "      <td>1599006</td>\n",
       "      <td>1599006</td>\n",
       "      <td>1,599,006.00</td>\n",
       "      <td>1,599,006.00</td>\n",
       "      <td>1,599,006.00</td>\n",
       "      <td>1,599,006.00</td>\n",
       "    </tr>\n",
       "    <tr>\n",
       "      <th>mean</th>\n",
       "      <td>2022-11-03 20:00:03.675006976</td>\n",
       "      <td>2022-11-03 20:14:05.448695808</td>\n",
       "      <td>41.90</td>\n",
       "      <td>-87.64</td>\n",
       "      <td>41.90</td>\n",
       "      <td>-87.64</td>\n",
       "    </tr>\n",
       "    <tr>\n",
       "      <th>min</th>\n",
       "      <td>2022-09-01 00:00:05</td>\n",
       "      <td>2022-09-01 00:02:47</td>\n",
       "      <td>41.77</td>\n",
       "      <td>-87.79</td>\n",
       "      <td>0.00</td>\n",
       "      <td>-87.76</td>\n",
       "    </tr>\n",
       "    <tr>\n",
       "      <th>25%</th>\n",
       "      <td>2022-09-23 10:27:41.249999872</td>\n",
       "      <td>2022-09-23 10:40:54.750000128</td>\n",
       "      <td>41.88</td>\n",
       "      <td>-87.66</td>\n",
       "      <td>41.88</td>\n",
       "      <td>-87.66</td>\n",
       "    </tr>\n",
       "    <tr>\n",
       "      <th>50%</th>\n",
       "      <td>2022-10-22 10:44:33</td>\n",
       "      <td>2022-10-22 11:02:01</td>\n",
       "      <td>41.90</td>\n",
       "      <td>-87.64</td>\n",
       "      <td>41.90</td>\n",
       "      <td>-87.64</td>\n",
       "    </tr>\n",
       "    <tr>\n",
       "      <th>75%</th>\n",
       "      <td>2022-12-05 06:51:16</td>\n",
       "      <td>2022-12-05 06:58:49</td>\n",
       "      <td>41.93</td>\n",
       "      <td>-87.63</td>\n",
       "      <td>41.93</td>\n",
       "      <td>-87.63</td>\n",
       "    </tr>\n",
       "    <tr>\n",
       "      <th>max</th>\n",
       "      <td>2023-02-28 23:59:31</td>\n",
       "      <td>2023-03-01 08:58:25</td>\n",
       "      <td>42.06</td>\n",
       "      <td>-87.57</td>\n",
       "      <td>42.06</td>\n",
       "      <td>0.00</td>\n",
       "    </tr>\n",
       "    <tr>\n",
       "      <th>std</th>\n",
       "      <td>NaN</td>\n",
       "      <td>NaN</td>\n",
       "      <td>0.04</td>\n",
       "      <td>0.02</td>\n",
       "      <td>0.10</td>\n",
       "      <td>0.20</td>\n",
       "    </tr>\n",
       "  </tbody>\n",
       "</table>\n",
       "</div>"
      ],
      "text/plain": [
       "                           startedat                        endedat  \\\n",
       "count                        1599006                        1599006   \n",
       "mean   2022-11-03 20:00:03.675006976  2022-11-03 20:14:05.448695808   \n",
       "min              2022-09-01 00:00:05            2022-09-01 00:02:47   \n",
       "25%    2022-09-23 10:27:41.249999872  2022-09-23 10:40:54.750000128   \n",
       "50%              2022-10-22 10:44:33            2022-10-22 11:02:01   \n",
       "75%              2022-12-05 06:51:16            2022-12-05 06:58:49   \n",
       "max              2023-02-28 23:59:31            2023-03-01 08:58:25   \n",
       "std                              NaN                            NaN   \n",
       "\n",
       "          startlat     startlng       endlat       endlng  \n",
       "count 1,599,006.00 1,599,006.00 1,599,006.00 1,599,006.00  \n",
       "mean         41.90       -87.64        41.90       -87.64  \n",
       "min          41.77       -87.79         0.00       -87.76  \n",
       "25%          41.88       -87.66        41.88       -87.66  \n",
       "50%          41.90       -87.64        41.90       -87.64  \n",
       "75%          41.93       -87.63        41.93       -87.63  \n",
       "max          42.06       -87.57        42.06         0.00  \n",
       "std           0.04         0.02         0.10         0.20  "
      ]
     },
     "execution_count": 51,
     "metadata": {},
     "output_type": "execute_result"
    }
   ],
   "source": [
    "filtered_df.describe()"
   ]
  },
  {
   "cell_type": "code",
   "execution_count": 52,
   "id": "054fe848-4a19-4a41-839d-15268eb54d4e",
   "metadata": {},
   "outputs": [
    {
     "name": "stdout",
     "output_type": "stream",
     "text": [
      "Start lat null count: 0 Start lng null count: 0 End lat null count: 0 End lng null count: 0 . Also membercasual : 0 null values.\n"
     ]
    }
   ],
   "source": [
    "slat = filtered_df['startlat'].isnull().sum()\n",
    "slng = filtered_df['startlng'].isnull().sum()\n",
    "elat = filtered_df['endlat'].isnull().sum()\n",
    "elng = filtered_df['endlng'].isnull().sum()\n",
    "memcas = filtered_df['membercasual'].isnull().sum()\n",
    "print (\"Start lat null count:\", slat, \"Start lng null count:\", slng, \"End lat null count:\", elat, \"End lng null count:\", elng, \". Also membercasual :\", memcas, \"null values.\")"
   ]
  },
  {
   "cell_type": "code",
   "execution_count": 53,
   "id": "1ee87590-1699-40e6-a319-bd41dab69649",
   "metadata": {},
   "outputs": [
    {
     "data": {
      "text/plain": [
       "startstationname\n",
       "Elston Ave & Henderson St    326\n",
       "Kedzie Ave & 48th Pl         326\n",
       "California Ave & Lake St     317\n",
       "Long & Irving Park           303\n",
       "Pulaski Rd & 51st St         213\n",
       "Narragansett & Wrightwood    198\n",
       "Princeton Ave & 47th St      141\n",
       "State St & 95th St            87\n",
       "Name: count, dtype: int64"
      ]
     },
     "execution_count": 53,
     "metadata": {},
     "output_type": "execute_result"
    }
   ],
   "source": [
    "startcount = merged_df['startstationname'].value_counts()  # Assuming merged_df is now defined\n",
    "filteredstcount = startcount[startcount <= 330 ]\n",
    "filteredstcount"
   ]
  },
  {
   "cell_type": "code",
   "execution_count": 54,
   "id": "30363362-f619-40b4-bcae-cfc9d5dd7452",
   "metadata": {},
   "outputs": [
    {
     "data": {
      "text/plain": [
       "rideid              0\n",
       "rideabletype        0\n",
       "startedat           0\n",
       "endedat             0\n",
       "startstationname    0\n",
       "startstationid      0\n",
       "endstationname      0\n",
       "endstationid        0\n",
       "startlat            0\n",
       "startlng            0\n",
       "endlat              0\n",
       "endlng              0\n",
       "membercasual        0\n",
       "dtype: int64"
      ]
     },
     "execution_count": 54,
     "metadata": {},
     "output_type": "execute_result"
    }
   ],
   "source": [
    "filtered_df.isnull().sum()"
   ]
  },
  {
   "cell_type": "code",
   "execution_count": 55,
   "id": "bf5dc508-8110-4382-95bf-3f8327dd2ffb",
   "metadata": {},
   "outputs": [],
   "source": [
    "filtered_df['month'] = filtered_df['startedat'].dt.month\n",
    "filtered_df['dayofweek'] = filtered_df['startedat'].dt.dayofweek\n",
    "filtered_df['starthour'] = filtered_df['startedat'].dt.hour\n",
    "filtered_df['endhour'] = filtered_df['endedat'].dt.hour"
   ]
  },
  {
   "cell_type": "code",
   "execution_count": 56,
   "id": "05dc54e4-c829-4bb4-9e24-caeef3a28712",
   "metadata": {},
   "outputs": [
    {
     "data": {
      "text/html": [
       "<div>\n",
       "<style scoped>\n",
       "    .dataframe tbody tr th:only-of-type {\n",
       "        vertical-align: middle;\n",
       "    }\n",
       "\n",
       "    .dataframe tbody tr th {\n",
       "        vertical-align: top;\n",
       "    }\n",
       "\n",
       "    .dataframe thead th {\n",
       "        text-align: right;\n",
       "    }\n",
       "</style>\n",
       "<table border=\"1\" class=\"dataframe\">\n",
       "  <thead>\n",
       "    <tr style=\"text-align: right;\">\n",
       "      <th></th>\n",
       "      <th>rideid</th>\n",
       "      <th>rideabletype</th>\n",
       "      <th>startedat</th>\n",
       "      <th>endedat</th>\n",
       "      <th>startstationname</th>\n",
       "      <th>startstationid</th>\n",
       "      <th>endstationname</th>\n",
       "      <th>endstationid</th>\n",
       "      <th>startlat</th>\n",
       "      <th>startlng</th>\n",
       "      <th>endlat</th>\n",
       "      <th>endlng</th>\n",
       "      <th>membercasual</th>\n",
       "      <th>month</th>\n",
       "      <th>dayofweek</th>\n",
       "      <th>starthour</th>\n",
       "      <th>endhour</th>\n",
       "      <th>durationmins</th>\n",
       "    </tr>\n",
       "  </thead>\n",
       "  <tbody>\n",
       "    <tr>\n",
       "      <th>387</th>\n",
       "      <td>8C94D4680E7B1DBC</td>\n",
       "      <td>electricbike</td>\n",
       "      <td>2022-09-10 22:52:54</td>\n",
       "      <td>2022-09-10 22:53:43</td>\n",
       "      <td>California Ave &amp; Milwaukee Ave</td>\n",
       "      <td>13084</td>\n",
       "      <td>California Ave &amp; Milwaukee Ave</td>\n",
       "      <td>13084</td>\n",
       "      <td>41.92</td>\n",
       "      <td>-87.70</td>\n",
       "      <td>41.92</td>\n",
       "      <td>-87.70</td>\n",
       "      <td>casual</td>\n",
       "      <td>9</td>\n",
       "      <td>5</td>\n",
       "      <td>22</td>\n",
       "      <td>22</td>\n",
       "      <td>0.82</td>\n",
       "    </tr>\n",
       "    <tr>\n",
       "      <th>388</th>\n",
       "      <td>7FD174E61EBA0B99</td>\n",
       "      <td>electricbike</td>\n",
       "      <td>2022-09-10 22:58:27</td>\n",
       "      <td>2022-09-10 22:59:20</td>\n",
       "      <td>California Ave &amp; Milwaukee Ave</td>\n",
       "      <td>13084</td>\n",
       "      <td>California Ave &amp; Milwaukee Ave</td>\n",
       "      <td>13084</td>\n",
       "      <td>41.92</td>\n",
       "      <td>-87.70</td>\n",
       "      <td>41.92</td>\n",
       "      <td>-87.70</td>\n",
       "      <td>casual</td>\n",
       "      <td>9</td>\n",
       "      <td>5</td>\n",
       "      <td>22</td>\n",
       "      <td>22</td>\n",
       "      <td>0.88</td>\n",
       "    </tr>\n",
       "    <tr>\n",
       "      <th>400</th>\n",
       "      <td>B23F6CCA8AC89F52</td>\n",
       "      <td>electricbike</td>\n",
       "      <td>2022-09-11 18:35:31</td>\n",
       "      <td>2022-09-11 18:45:57</td>\n",
       "      <td>Wood St &amp; Chicago Ave</td>\n",
       "      <td>637</td>\n",
       "      <td>Wood St &amp; Chicago Ave</td>\n",
       "      <td>637</td>\n",
       "      <td>41.90</td>\n",
       "      <td>-87.67</td>\n",
       "      <td>41.90</td>\n",
       "      <td>-87.67</td>\n",
       "      <td>casual</td>\n",
       "      <td>9</td>\n",
       "      <td>6</td>\n",
       "      <td>18</td>\n",
       "      <td>18</td>\n",
       "      <td>10.43</td>\n",
       "    </tr>\n",
       "    <tr>\n",
       "      <th>964</th>\n",
       "      <td>2A39814848E1D54C</td>\n",
       "      <td>electricbike</td>\n",
       "      <td>2022-09-07 20:01:55</td>\n",
       "      <td>2022-09-07 20:19:24</td>\n",
       "      <td>California Ave &amp; Milwaukee Ave</td>\n",
       "      <td>13084</td>\n",
       "      <td>California Ave &amp; Milwaukee Ave</td>\n",
       "      <td>13084</td>\n",
       "      <td>41.92</td>\n",
       "      <td>-87.70</td>\n",
       "      <td>41.92</td>\n",
       "      <td>-87.70</td>\n",
       "      <td>casual</td>\n",
       "      <td>9</td>\n",
       "      <td>2</td>\n",
       "      <td>20</td>\n",
       "      <td>20</td>\n",
       "      <td>17.48</td>\n",
       "    </tr>\n",
       "    <tr>\n",
       "      <th>971</th>\n",
       "      <td>181A283DC7877573</td>\n",
       "      <td>electricbike</td>\n",
       "      <td>2022-09-08 17:00:30</td>\n",
       "      <td>2022-09-08 17:02:01</td>\n",
       "      <td>California Ave &amp; Division St</td>\n",
       "      <td>13256</td>\n",
       "      <td>California Ave &amp; Division St</td>\n",
       "      <td>13256</td>\n",
       "      <td>41.90</td>\n",
       "      <td>-87.70</td>\n",
       "      <td>41.90</td>\n",
       "      <td>-87.70</td>\n",
       "      <td>casual</td>\n",
       "      <td>9</td>\n",
       "      <td>3</td>\n",
       "      <td>17</td>\n",
       "      <td>17</td>\n",
       "      <td>1.52</td>\n",
       "    </tr>\n",
       "  </tbody>\n",
       "</table>\n",
       "</div>"
      ],
      "text/plain": [
       "               rideid  rideabletype           startedat             endedat  \\\n",
       "387  8C94D4680E7B1DBC  electricbike 2022-09-10 22:52:54 2022-09-10 22:53:43   \n",
       "388  7FD174E61EBA0B99  electricbike 2022-09-10 22:58:27 2022-09-10 22:59:20   \n",
       "400  B23F6CCA8AC89F52  electricbike 2022-09-11 18:35:31 2022-09-11 18:45:57   \n",
       "964  2A39814848E1D54C  electricbike 2022-09-07 20:01:55 2022-09-07 20:19:24   \n",
       "971  181A283DC7877573  electricbike 2022-09-08 17:00:30 2022-09-08 17:02:01   \n",
       "\n",
       "                   startstationname startstationid  \\\n",
       "387  California Ave & Milwaukee Ave          13084   \n",
       "388  California Ave & Milwaukee Ave          13084   \n",
       "400           Wood St & Chicago Ave            637   \n",
       "964  California Ave & Milwaukee Ave          13084   \n",
       "971    California Ave & Division St          13256   \n",
       "\n",
       "                     endstationname endstationid  startlat  startlng  endlat  \\\n",
       "387  California Ave & Milwaukee Ave        13084     41.92    -87.70   41.92   \n",
       "388  California Ave & Milwaukee Ave        13084     41.92    -87.70   41.92   \n",
       "400           Wood St & Chicago Ave          637     41.90    -87.67   41.90   \n",
       "964  California Ave & Milwaukee Ave        13084     41.92    -87.70   41.92   \n",
       "971    California Ave & Division St        13256     41.90    -87.70   41.90   \n",
       "\n",
       "     endlng membercasual  month  dayofweek  starthour  endhour  durationmins  \n",
       "387  -87.70       casual      9          5         22       22          0.82  \n",
       "388  -87.70       casual      9          5         22       22          0.88  \n",
       "400  -87.67       casual      9          6         18       18         10.43  \n",
       "964  -87.70       casual      9          2         20       20         17.48  \n",
       "971  -87.70       casual      9          3         17       17          1.52  "
      ]
     },
     "execution_count": 56,
     "metadata": {},
     "output_type": "execute_result"
    }
   ],
   "source": [
    "filtered_df['durationmins'] = (filtered_df ['endedat'] - filtered_df ['startedat']).dt.total_seconds()/60\n",
    "filtered_df.head()"
   ]
  },
  {
   "cell_type": "code",
   "execution_count": 57,
   "id": "db72ac10-b50e-4873-a10c-61abd65668d7",
   "metadata": {},
   "outputs": [
    {
     "data": {
      "text/html": [
       "<div>\n",
       "<style scoped>\n",
       "    .dataframe tbody tr th:only-of-type {\n",
       "        vertical-align: middle;\n",
       "    }\n",
       "\n",
       "    .dataframe tbody tr th {\n",
       "        vertical-align: top;\n",
       "    }\n",
       "\n",
       "    .dataframe thead th {\n",
       "        text-align: right;\n",
       "    }\n",
       "</style>\n",
       "<table border=\"1\" class=\"dataframe\">\n",
       "  <thead>\n",
       "    <tr style=\"text-align: right;\">\n",
       "      <th></th>\n",
       "      <th>rideid</th>\n",
       "      <th>rideabletype</th>\n",
       "      <th>startedat</th>\n",
       "      <th>endedat</th>\n",
       "      <th>startstationname</th>\n",
       "      <th>startstationid</th>\n",
       "      <th>endstationname</th>\n",
       "      <th>endstationid</th>\n",
       "      <th>startlat</th>\n",
       "      <th>startlng</th>\n",
       "      <th>endlat</th>\n",
       "      <th>endlng</th>\n",
       "      <th>membercasual</th>\n",
       "      <th>month</th>\n",
       "      <th>dayofweek</th>\n",
       "      <th>starthour</th>\n",
       "      <th>endhour</th>\n",
       "      <th>durationmins</th>\n",
       "    </tr>\n",
       "  </thead>\n",
       "  <tbody>\n",
       "    <tr>\n",
       "      <th>400</th>\n",
       "      <td>B23F6CCA8AC89F52</td>\n",
       "      <td>electricbike</td>\n",
       "      <td>2022-09-11 18:35:31</td>\n",
       "      <td>2022-09-11 18:45:57</td>\n",
       "      <td>Wood St &amp; Chicago Ave</td>\n",
       "      <td>637</td>\n",
       "      <td>Wood St &amp; Chicago Ave</td>\n",
       "      <td>637</td>\n",
       "      <td>41.90</td>\n",
       "      <td>-87.67</td>\n",
       "      <td>41.90</td>\n",
       "      <td>-87.67</td>\n",
       "      <td>casual</td>\n",
       "      <td>9</td>\n",
       "      <td>6</td>\n",
       "      <td>18</td>\n",
       "      <td>18</td>\n",
       "      <td>10.43</td>\n",
       "    </tr>\n",
       "    <tr>\n",
       "      <th>964</th>\n",
       "      <td>2A39814848E1D54C</td>\n",
       "      <td>electricbike</td>\n",
       "      <td>2022-09-07 20:01:55</td>\n",
       "      <td>2022-09-07 20:19:24</td>\n",
       "      <td>California Ave &amp; Milwaukee Ave</td>\n",
       "      <td>13084</td>\n",
       "      <td>California Ave &amp; Milwaukee Ave</td>\n",
       "      <td>13084</td>\n",
       "      <td>41.92</td>\n",
       "      <td>-87.70</td>\n",
       "      <td>41.92</td>\n",
       "      <td>-87.70</td>\n",
       "      <td>casual</td>\n",
       "      <td>9</td>\n",
       "      <td>2</td>\n",
       "      <td>20</td>\n",
       "      <td>20</td>\n",
       "      <td>17.48</td>\n",
       "    </tr>\n",
       "    <tr>\n",
       "      <th>971</th>\n",
       "      <td>181A283DC7877573</td>\n",
       "      <td>electricbike</td>\n",
       "      <td>2022-09-08 17:00:30</td>\n",
       "      <td>2022-09-08 17:02:01</td>\n",
       "      <td>California Ave &amp; Division St</td>\n",
       "      <td>13256</td>\n",
       "      <td>California Ave &amp; Division St</td>\n",
       "      <td>13256</td>\n",
       "      <td>41.90</td>\n",
       "      <td>-87.70</td>\n",
       "      <td>41.90</td>\n",
       "      <td>-87.70</td>\n",
       "      <td>casual</td>\n",
       "      <td>9</td>\n",
       "      <td>3</td>\n",
       "      <td>17</td>\n",
       "      <td>17</td>\n",
       "      <td>1.52</td>\n",
       "    </tr>\n",
       "    <tr>\n",
       "      <th>1009</th>\n",
       "      <td>ACA9081DE3E5030A</td>\n",
       "      <td>classicbike</td>\n",
       "      <td>2022-09-10 14:14:09</td>\n",
       "      <td>2022-09-10 14:26:57</td>\n",
       "      <td>California Ave &amp; Division St</td>\n",
       "      <td>13256</td>\n",
       "      <td>California Ave &amp; Division St</td>\n",
       "      <td>13256</td>\n",
       "      <td>41.90</td>\n",
       "      <td>-87.70</td>\n",
       "      <td>41.90</td>\n",
       "      <td>-87.70</td>\n",
       "      <td>casual</td>\n",
       "      <td>9</td>\n",
       "      <td>5</td>\n",
       "      <td>14</td>\n",
       "      <td>14</td>\n",
       "      <td>12.80</td>\n",
       "    </tr>\n",
       "    <tr>\n",
       "      <th>1638</th>\n",
       "      <td>192B8C5D116C3D76</td>\n",
       "      <td>classicbike</td>\n",
       "      <td>2022-09-03 19:58:59</td>\n",
       "      <td>2022-09-03 21:09:18</td>\n",
       "      <td>California Ave &amp; Milwaukee Ave</td>\n",
       "      <td>13084</td>\n",
       "      <td>California Ave &amp; Milwaukee Ave</td>\n",
       "      <td>13084</td>\n",
       "      <td>41.92</td>\n",
       "      <td>-87.70</td>\n",
       "      <td>41.92</td>\n",
       "      <td>-87.70</td>\n",
       "      <td>casual</td>\n",
       "      <td>9</td>\n",
       "      <td>5</td>\n",
       "      <td>19</td>\n",
       "      <td>21</td>\n",
       "      <td>70.32</td>\n",
       "    </tr>\n",
       "    <tr>\n",
       "      <th>...</th>\n",
       "      <td>...</td>\n",
       "      <td>...</td>\n",
       "      <td>...</td>\n",
       "      <td>...</td>\n",
       "      <td>...</td>\n",
       "      <td>...</td>\n",
       "      <td>...</td>\n",
       "      <td>...</td>\n",
       "      <td>...</td>\n",
       "      <td>...</td>\n",
       "      <td>...</td>\n",
       "      <td>...</td>\n",
       "      <td>...</td>\n",
       "      <td>...</td>\n",
       "      <td>...</td>\n",
       "      <td>...</td>\n",
       "      <td>...</td>\n",
       "      <td>...</td>\n",
       "    </tr>\n",
       "    <tr>\n",
       "      <th>2160306</th>\n",
       "      <td>C04510F8EBB5EE8A</td>\n",
       "      <td>classicbike</td>\n",
       "      <td>2023-02-08 21:57:22</td>\n",
       "      <td>2023-02-08 22:08:06</td>\n",
       "      <td>Clark St &amp; Wrightwood Ave</td>\n",
       "      <td>TA1305000014</td>\n",
       "      <td>Sheffield Ave &amp; Waveland Ave</td>\n",
       "      <td>TA1307000126</td>\n",
       "      <td>41.93</td>\n",
       "      <td>-87.64</td>\n",
       "      <td>41.95</td>\n",
       "      <td>-87.65</td>\n",
       "      <td>member</td>\n",
       "      <td>2</td>\n",
       "      <td>2</td>\n",
       "      <td>21</td>\n",
       "      <td>22</td>\n",
       "      <td>10.73</td>\n",
       "    </tr>\n",
       "    <tr>\n",
       "      <th>2160307</th>\n",
       "      <td>187BA364FB265C80</td>\n",
       "      <td>electricbike</td>\n",
       "      <td>2023-02-19 11:29:09</td>\n",
       "      <td>2023-02-19 11:39:11</td>\n",
       "      <td>Ogden Ave &amp; Roosevelt Rd</td>\n",
       "      <td>KA1504000101</td>\n",
       "      <td>Delano Ct &amp; Roosevelt Rd</td>\n",
       "      <td>KA1706005007</td>\n",
       "      <td>41.87</td>\n",
       "      <td>-87.68</td>\n",
       "      <td>41.87</td>\n",
       "      <td>-87.63</td>\n",
       "      <td>member</td>\n",
       "      <td>2</td>\n",
       "      <td>6</td>\n",
       "      <td>11</td>\n",
       "      <td>11</td>\n",
       "      <td>10.03</td>\n",
       "    </tr>\n",
       "    <tr>\n",
       "      <th>2160308</th>\n",
       "      <td>46B54F6B417D1B27</td>\n",
       "      <td>electricbike</td>\n",
       "      <td>2023-02-07 09:01:33</td>\n",
       "      <td>2023-02-07 09:16:53</td>\n",
       "      <td>Clark St &amp; Wrightwood Ave</td>\n",
       "      <td>TA1305000014</td>\n",
       "      <td>Canal St &amp; Madison St</td>\n",
       "      <td>13341</td>\n",
       "      <td>41.93</td>\n",
       "      <td>-87.64</td>\n",
       "      <td>41.88</td>\n",
       "      <td>-87.64</td>\n",
       "      <td>casual</td>\n",
       "      <td>2</td>\n",
       "      <td>1</td>\n",
       "      <td>9</td>\n",
       "      <td>9</td>\n",
       "      <td>15.33</td>\n",
       "    </tr>\n",
       "    <tr>\n",
       "      <th>2160309</th>\n",
       "      <td>335B3CAD59F6C016</td>\n",
       "      <td>electricbike</td>\n",
       "      <td>2023-02-22 08:33:22</td>\n",
       "      <td>2023-02-22 08:50:11</td>\n",
       "      <td>Clark St &amp; Wrightwood Ave</td>\n",
       "      <td>TA1305000014</td>\n",
       "      <td>Canal St &amp; Madison St</td>\n",
       "      <td>13341</td>\n",
       "      <td>41.93</td>\n",
       "      <td>-87.64</td>\n",
       "      <td>41.88</td>\n",
       "      <td>-87.64</td>\n",
       "      <td>casual</td>\n",
       "      <td>2</td>\n",
       "      <td>2</td>\n",
       "      <td>8</td>\n",
       "      <td>8</td>\n",
       "      <td>16.82</td>\n",
       "    </tr>\n",
       "    <tr>\n",
       "      <th>2160310</th>\n",
       "      <td>03D59518BB151EFA</td>\n",
       "      <td>classicbike</td>\n",
       "      <td>2023-02-01 21:52:17</td>\n",
       "      <td>2023-02-01 22:04:17</td>\n",
       "      <td>Clark St &amp; Winnemac Ave</td>\n",
       "      <td>TA1309000035</td>\n",
       "      <td>Sheffield Ave &amp; Waveland Ave</td>\n",
       "      <td>TA1307000126</td>\n",
       "      <td>41.97</td>\n",
       "      <td>-87.67</td>\n",
       "      <td>41.95</td>\n",
       "      <td>-87.65</td>\n",
       "      <td>member</td>\n",
       "      <td>2</td>\n",
       "      <td>2</td>\n",
       "      <td>21</td>\n",
       "      <td>22</td>\n",
       "      <td>12.00</td>\n",
       "    </tr>\n",
       "  </tbody>\n",
       "</table>\n",
       "<p>1568271 rows × 18 columns</p>\n",
       "</div>"
      ],
      "text/plain": [
       "                   rideid  rideabletype           startedat  \\\n",
       "400      B23F6CCA8AC89F52  electricbike 2022-09-11 18:35:31   \n",
       "964      2A39814848E1D54C  electricbike 2022-09-07 20:01:55   \n",
       "971      181A283DC7877573  electricbike 2022-09-08 17:00:30   \n",
       "1009     ACA9081DE3E5030A   classicbike 2022-09-10 14:14:09   \n",
       "1638     192B8C5D116C3D76   classicbike 2022-09-03 19:58:59   \n",
       "...                   ...           ...                 ...   \n",
       "2160306  C04510F8EBB5EE8A   classicbike 2023-02-08 21:57:22   \n",
       "2160307  187BA364FB265C80  electricbike 2023-02-19 11:29:09   \n",
       "2160308  46B54F6B417D1B27  electricbike 2023-02-07 09:01:33   \n",
       "2160309  335B3CAD59F6C016  electricbike 2023-02-22 08:33:22   \n",
       "2160310  03D59518BB151EFA   classicbike 2023-02-01 21:52:17   \n",
       "\n",
       "                    endedat                startstationname startstationid  \\\n",
       "400     2022-09-11 18:45:57           Wood St & Chicago Ave            637   \n",
       "964     2022-09-07 20:19:24  California Ave & Milwaukee Ave          13084   \n",
       "971     2022-09-08 17:02:01    California Ave & Division St          13256   \n",
       "1009    2022-09-10 14:26:57    California Ave & Division St          13256   \n",
       "1638    2022-09-03 21:09:18  California Ave & Milwaukee Ave          13084   \n",
       "...                     ...                             ...            ...   \n",
       "2160306 2023-02-08 22:08:06       Clark St & Wrightwood Ave   TA1305000014   \n",
       "2160307 2023-02-19 11:39:11        Ogden Ave & Roosevelt Rd   KA1504000101   \n",
       "2160308 2023-02-07 09:16:53       Clark St & Wrightwood Ave   TA1305000014   \n",
       "2160309 2023-02-22 08:50:11       Clark St & Wrightwood Ave   TA1305000014   \n",
       "2160310 2023-02-01 22:04:17         Clark St & Winnemac Ave   TA1309000035   \n",
       "\n",
       "                         endstationname  endstationid  startlat  startlng  \\\n",
       "400               Wood St & Chicago Ave           637     41.90    -87.67   \n",
       "964      California Ave & Milwaukee Ave         13084     41.92    -87.70   \n",
       "971        California Ave & Division St         13256     41.90    -87.70   \n",
       "1009       California Ave & Division St         13256     41.90    -87.70   \n",
       "1638     California Ave & Milwaukee Ave         13084     41.92    -87.70   \n",
       "...                                 ...           ...       ...       ...   \n",
       "2160306    Sheffield Ave & Waveland Ave  TA1307000126     41.93    -87.64   \n",
       "2160307        Delano Ct & Roosevelt Rd  KA1706005007     41.87    -87.68   \n",
       "2160308           Canal St & Madison St         13341     41.93    -87.64   \n",
       "2160309           Canal St & Madison St         13341     41.93    -87.64   \n",
       "2160310    Sheffield Ave & Waveland Ave  TA1307000126     41.97    -87.67   \n",
       "\n",
       "         endlat  endlng membercasual  month  dayofweek  starthour  endhour  \\\n",
       "400       41.90  -87.67       casual      9          6         18       18   \n",
       "964       41.92  -87.70       casual      9          2         20       20   \n",
       "971       41.90  -87.70       casual      9          3         17       17   \n",
       "1009      41.90  -87.70       casual      9          5         14       14   \n",
       "1638      41.92  -87.70       casual      9          5         19       21   \n",
       "...         ...     ...          ...    ...        ...        ...      ...   \n",
       "2160306   41.95  -87.65       member      2          2         21       22   \n",
       "2160307   41.87  -87.63       member      2          6         11       11   \n",
       "2160308   41.88  -87.64       casual      2          1          9        9   \n",
       "2160309   41.88  -87.64       casual      2          2          8        8   \n",
       "2160310   41.95  -87.65       member      2          2         21       22   \n",
       "\n",
       "         durationmins  \n",
       "400             10.43  \n",
       "964             17.48  \n",
       "971              1.52  \n",
       "1009            12.80  \n",
       "1638            70.32  \n",
       "...               ...  \n",
       "2160306         10.73  \n",
       "2160307         10.03  \n",
       "2160308         15.33  \n",
       "2160309         16.82  \n",
       "2160310         12.00  \n",
       "\n",
       "[1568271 rows x 18 columns]"
      ]
     },
     "execution_count": 57,
     "metadata": {},
     "output_type": "execute_result"
    }
   ],
   "source": [
    "filtered_df = filtered_df[(filtered_df['durationmins'] >= 1) & (filtered_df['durationmins'] <= 1440)]\n",
    "filtered_df"
   ]
  },
  {
   "cell_type": "code",
   "execution_count": 58,
   "id": "20dc570a-634f-4791-a159-8198826b254d",
   "metadata": {},
   "outputs": [
    {
     "data": {
      "text/plain": [
       "(array([6, 2, 3, 5, 4, 1, 0], dtype=int32),\n",
       " dayofweek\n",
       " 3    243920\n",
       " 5    236145\n",
       " 2    228137\n",
       " 4    227652\n",
       " 1    223980\n",
       " 0    214005\n",
       " 6    194432\n",
       " Name: count, dtype: int64)"
      ]
     },
     "execution_count": 58,
     "metadata": {},
     "output_type": "execute_result"
    }
   ],
   "source": [
    "#0 is Monday, 6 is Sunday\n",
    "dayofweek = filtered_df['dayofweek'].unique(), filtered_df['dayofweek'].value_counts()\n",
    "dayofweek"
   ]
  },
  {
   "cell_type": "code",
   "execution_count": 59,
   "id": "fc56742e-ebf6-4079-b35e-542393a5cdb2",
   "metadata": {},
   "outputs": [],
   "source": [
    "cnn = sqlite3.connect('simsimdb.db')"
   ]
  },
  {
   "cell_type": "code",
   "execution_count": 60,
   "id": "919e390b-7290-4431-8c5e-a4bd04ac9afd",
   "metadata": {},
   "outputs": [
    {
     "data": {
      "text/plain": [
       "1568271"
      ]
     },
     "execution_count": 60,
     "metadata": {},
     "output_type": "execute_result"
    }
   ],
   "source": [
    "filtered_df.to_sql('cyclisticb', cnn, if_exists='replace')"
   ]
  },
  {
   "cell_type": "code",
   "execution_count": 61,
   "id": "7e40888a-cb96-4cad-a33b-26ead6bdfef2",
   "metadata": {},
   "outputs": [],
   "source": [
    "%load_ext sql"
   ]
  },
  {
   "cell_type": "code",
   "execution_count": 62,
   "id": "80734a77-4807-411c-a4e4-76c61341b606",
   "metadata": {},
   "outputs": [],
   "source": [
    "%sql sqlite:///simsimdb.db"
   ]
  },
  {
   "cell_type": "code",
   "execution_count": 63,
   "id": "554eb351-84f2-4f25-890a-de34600ee0b8",
   "metadata": {},
   "outputs": [
    {
     "name": "stdout",
     "output_type": "stream",
     "text": [
      " * sqlite:///simsimdb.db\n",
      "Done.\n"
     ]
    },
    {
     "data": {
      "text/html": [
       "<table>\n",
       "    <thead>\n",
       "        <tr>\n",
       "            <th>index</th>\n",
       "            <th>rideid</th>\n",
       "            <th>rideabletype</th>\n",
       "            <th>startedat</th>\n",
       "            <th>endedat</th>\n",
       "            <th>startstationname</th>\n",
       "            <th>startstationid</th>\n",
       "            <th>endstationname</th>\n",
       "            <th>endstationid</th>\n",
       "            <th>startlat</th>\n",
       "            <th>startlng</th>\n",
       "            <th>endlat</th>\n",
       "            <th>endlng</th>\n",
       "            <th>membercasual</th>\n",
       "            <th>month</th>\n",
       "            <th>dayofweek</th>\n",
       "            <th>starthour</th>\n",
       "            <th>endhour</th>\n",
       "            <th>durationmins</th>\n",
       "        </tr>\n",
       "    </thead>\n",
       "    <tbody>\n",
       "        <tr>\n",
       "            <td>400</td>\n",
       "            <td>B23F6CCA8AC89F52</td>\n",
       "            <td>electricbike</td>\n",
       "            <td>2022-09-11T18:35:31</td>\n",
       "            <td>2022-09-11T18:45:57</td>\n",
       "            <td>Wood St &amp; Chicago Ave</td>\n",
       "            <td>637</td>\n",
       "            <td>Wood St &amp; Chicago Ave</td>\n",
       "            <td>637</td>\n",
       "            <td>41.89561</td>\n",
       "            <td>-87.672195</td>\n",
       "            <td>41.895634</td>\n",
       "            <td>-87.672069</td>\n",
       "            <td>casual</td>\n",
       "            <td>9</td>\n",
       "            <td>6</td>\n",
       "            <td>18</td>\n",
       "            <td>18</td>\n",
       "            <td>10.433333333333334</td>\n",
       "        </tr>\n",
       "        <tr>\n",
       "            <td>964</td>\n",
       "            <td>2A39814848E1D54C</td>\n",
       "            <td>electricbike</td>\n",
       "            <td>2022-09-07T20:01:55</td>\n",
       "            <td>2022-09-07T20:19:24</td>\n",
       "            <td>California Ave &amp; Milwaukee Ave</td>\n",
       "            <td>13084</td>\n",
       "            <td>California Ave &amp; Milwaukee Ave</td>\n",
       "            <td>13084</td>\n",
       "            <td>41.922662333333335</td>\n",
       "            <td>-87.69710816666667</td>\n",
       "            <td>41.922695</td>\n",
       "            <td>-87.697153</td>\n",
       "            <td>casual</td>\n",
       "            <td>9</td>\n",
       "            <td>2</td>\n",
       "            <td>20</td>\n",
       "            <td>20</td>\n",
       "            <td>17.483333333333334</td>\n",
       "        </tr>\n",
       "        <tr>\n",
       "            <td>971</td>\n",
       "            <td>181A283DC7877573</td>\n",
       "            <td>electricbike</td>\n",
       "            <td>2022-09-08T17:00:30</td>\n",
       "            <td>2022-09-08T17:02:01</td>\n",
       "            <td>California Ave &amp; Division St</td>\n",
       "            <td>13256</td>\n",
       "            <td>California Ave &amp; Division St</td>\n",
       "            <td>13256</td>\n",
       "            <td>41.903035879</td>\n",
       "            <td>-87.697476506</td>\n",
       "            <td>41.903029</td>\n",
       "            <td>-87.697474</td>\n",
       "            <td>casual</td>\n",
       "            <td>9</td>\n",
       "            <td>3</td>\n",
       "            <td>17</td>\n",
       "            <td>17</td>\n",
       "            <td>1.5166666666666666</td>\n",
       "        </tr>\n",
       "        <tr>\n",
       "            <td>1009</td>\n",
       "            <td>ACA9081DE3E5030A</td>\n",
       "            <td>classicbike</td>\n",
       "            <td>2022-09-10T14:14:09</td>\n",
       "            <td>2022-09-10T14:26:57</td>\n",
       "            <td>California Ave &amp; Division St</td>\n",
       "            <td>13256</td>\n",
       "            <td>California Ave &amp; Division St</td>\n",
       "            <td>13256</td>\n",
       "            <td>41.903029</td>\n",
       "            <td>-87.697474</td>\n",
       "            <td>41.903029</td>\n",
       "            <td>-87.697474</td>\n",
       "            <td>casual</td>\n",
       "            <td>9</td>\n",
       "            <td>5</td>\n",
       "            <td>14</td>\n",
       "            <td>14</td>\n",
       "            <td>12.8</td>\n",
       "        </tr>\n",
       "        <tr>\n",
       "            <td>1638</td>\n",
       "            <td>192B8C5D116C3D76</td>\n",
       "            <td>classicbike</td>\n",
       "            <td>2022-09-03T19:58:59</td>\n",
       "            <td>2022-09-03T21:09:18</td>\n",
       "            <td>California Ave &amp; Milwaukee Ave</td>\n",
       "            <td>13084</td>\n",
       "            <td>California Ave &amp; Milwaukee Ave</td>\n",
       "            <td>13084</td>\n",
       "            <td>41.922695</td>\n",
       "            <td>-87.697153</td>\n",
       "            <td>41.922695</td>\n",
       "            <td>-87.697153</td>\n",
       "            <td>casual</td>\n",
       "            <td>9</td>\n",
       "            <td>5</td>\n",
       "            <td>19</td>\n",
       "            <td>21</td>\n",
       "            <td>70.31666666666666</td>\n",
       "        </tr>\n",
       "        <tr>\n",
       "            <td>1647</td>\n",
       "            <td>D4CD3DF412980C2A</td>\n",
       "            <td>classicbike</td>\n",
       "            <td>2022-09-03T23:18:10</td>\n",
       "            <td>2022-09-03T23:34:21</td>\n",
       "            <td>Kedzie Ave &amp; Lake St</td>\n",
       "            <td>KA1504000106</td>\n",
       "            <td>California Ave &amp; Division St</td>\n",
       "            <td>13256</td>\n",
       "            <td>41.88460328501</td>\n",
       "            <td>-87.7063037436</td>\n",
       "            <td>41.903029</td>\n",
       "            <td>-87.697474</td>\n",
       "            <td>casual</td>\n",
       "            <td>9</td>\n",
       "            <td>5</td>\n",
       "            <td>23</td>\n",
       "            <td>23</td>\n",
       "            <td>16.183333333333334</td>\n",
       "        </tr>\n",
       "        <tr>\n",
       "            <td>2201</td>\n",
       "            <td>FB3F59FA0A9FAD8D</td>\n",
       "            <td>classicbike</td>\n",
       "            <td>2022-09-23T21:55:04</td>\n",
       "            <td>2022-09-23T21:56:14</td>\n",
       "            <td>California Ave &amp; Division St</td>\n",
       "            <td>13256</td>\n",
       "            <td>California Ave &amp; Division St</td>\n",
       "            <td>13256</td>\n",
       "            <td>41.903029</td>\n",
       "            <td>-87.697474</td>\n",
       "            <td>41.903029</td>\n",
       "            <td>-87.697474</td>\n",
       "            <td>casual</td>\n",
       "            <td>9</td>\n",
       "            <td>4</td>\n",
       "            <td>21</td>\n",
       "            <td>21</td>\n",
       "            <td>1.1666666666666667</td>\n",
       "        </tr>\n",
       "        <tr>\n",
       "            <td>2237</td>\n",
       "            <td>A6FA0AAB756D6F13</td>\n",
       "            <td>classicbike</td>\n",
       "            <td>2022-09-08T18:37:19</td>\n",
       "            <td>2022-09-08T19:41:46</td>\n",
       "            <td>Cottage Grove Ave &amp; 51st St</td>\n",
       "            <td>TA1309000067</td>\n",
       "            <td>Cottage Grove Ave &amp; 51st St</td>\n",
       "            <td>TA1309000067</td>\n",
       "            <td>41.803038</td>\n",
       "            <td>-87.606615</td>\n",
       "            <td>41.803038</td>\n",
       "            <td>-87.606615</td>\n",
       "            <td>casual</td>\n",
       "            <td>9</td>\n",
       "            <td>3</td>\n",
       "            <td>18</td>\n",
       "            <td>19</td>\n",
       "            <td>64.45</td>\n",
       "        </tr>\n",
       "        <tr>\n",
       "            <td>2581</td>\n",
       "            <td>0CDA5583BE8E3757</td>\n",
       "            <td>electricbike</td>\n",
       "            <td>2022-09-20T20:09:28</td>\n",
       "            <td>2022-09-20T20:16:09</td>\n",
       "            <td>California Ave &amp; Milwaukee Ave</td>\n",
       "            <td>13084</td>\n",
       "            <td>California Ave &amp; Division St</td>\n",
       "            <td>13256</td>\n",
       "            <td>41.922672</td>\n",
       "            <td>-87.697124</td>\n",
       "            <td>41.903029</td>\n",
       "            <td>-87.697474</td>\n",
       "            <td>casual</td>\n",
       "            <td>9</td>\n",
       "            <td>1</td>\n",
       "            <td>20</td>\n",
       "            <td>20</td>\n",
       "            <td>6.683333333333334</td>\n",
       "        </tr>\n",
       "        <tr>\n",
       "            <td>2594</td>\n",
       "            <td>32B5F2F44C16580C</td>\n",
       "            <td>classicbike</td>\n",
       "            <td>2022-09-10T10:26:16</td>\n",
       "            <td>2022-09-10T10:32:25</td>\n",
       "            <td>Wood St &amp; Chicago Ave</td>\n",
       "            <td>637</td>\n",
       "            <td>Wood St &amp; Chicago Ave</td>\n",
       "            <td>637</td>\n",
       "            <td>41.895634</td>\n",
       "            <td>-87.672069</td>\n",
       "            <td>41.895634</td>\n",
       "            <td>-87.672069</td>\n",
       "            <td>casual</td>\n",
       "            <td>9</td>\n",
       "            <td>5</td>\n",
       "            <td>10</td>\n",
       "            <td>10</td>\n",
       "            <td>6.15</td>\n",
       "        </tr>\n",
       "    </tbody>\n",
       "</table>"
      ],
      "text/plain": [
       "[(400, 'B23F6CCA8AC89F52', 'electricbike', '2022-09-11T18:35:31', '2022-09-11T18:45:57', 'Wood St & Chicago Ave', '637', 'Wood St & Chicago Ave', '637', 41.89561, -87.672195, 41.895634, -87.672069, 'casual', 9, 6, 18, 18, 10.433333333333334),\n",
       " (964, '2A39814848E1D54C', 'electricbike', '2022-09-07T20:01:55', '2022-09-07T20:19:24', 'California Ave & Milwaukee Ave', '13084', 'California Ave & Milwaukee Ave', '13084', 41.922662333333335, -87.69710816666667, 41.922695, -87.697153, 'casual', 9, 2, 20, 20, 17.483333333333334),\n",
       " (971, '181A283DC7877573', 'electricbike', '2022-09-08T17:00:30', '2022-09-08T17:02:01', 'California Ave & Division St', '13256', 'California Ave & Division St', '13256', 41.903035879, -87.697476506, 41.903029, -87.697474, 'casual', 9, 3, 17, 17, 1.5166666666666666),\n",
       " (1009, 'ACA9081DE3E5030A', 'classicbike', '2022-09-10T14:14:09', '2022-09-10T14:26:57', 'California Ave & Division St', '13256', 'California Ave & Division St', '13256', 41.903029, -87.697474, 41.903029, -87.697474, 'casual', 9, 5, 14, 14, 12.8),\n",
       " (1638, '192B8C5D116C3D76', 'classicbike', '2022-09-03T19:58:59', '2022-09-03T21:09:18', 'California Ave & Milwaukee Ave', '13084', 'California Ave & Milwaukee Ave', '13084', 41.922695, -87.697153, 41.922695, -87.697153, 'casual', 9, 5, 19, 21, 70.31666666666666),\n",
       " (1647, 'D4CD3DF412980C2A', 'classicbike', '2022-09-03T23:18:10', '2022-09-03T23:34:21', 'Kedzie Ave & Lake St', 'KA1504000106', 'California Ave & Division St', '13256', 41.88460328501, -87.7063037436, 41.903029, -87.697474, 'casual', 9, 5, 23, 23, 16.183333333333334),\n",
       " (2201, 'FB3F59FA0A9FAD8D', 'classicbike', '2022-09-23T21:55:04', '2022-09-23T21:56:14', 'California Ave & Division St', '13256', 'California Ave & Division St', '13256', 41.903029, -87.697474, 41.903029, -87.697474, 'casual', 9, 4, 21, 21, 1.1666666666666667),\n",
       " (2237, 'A6FA0AAB756D6F13', 'classicbike', '2022-09-08T18:37:19', '2022-09-08T19:41:46', 'Cottage Grove Ave & 51st St', 'TA1309000067', 'Cottage Grove Ave & 51st St', 'TA1309000067', 41.803038, -87.606615, 41.803038, -87.606615, 'casual', 9, 3, 18, 19, 64.45),\n",
       " (2581, '0CDA5583BE8E3757', 'electricbike', '2022-09-20T20:09:28', '2022-09-20T20:16:09', 'California Ave & Milwaukee Ave', '13084', 'California Ave & Division St', '13256', 41.922672, -87.697124, 41.903029, -87.697474, 'casual', 9, 1, 20, 20, 6.683333333333334),\n",
       " (2594, '32B5F2F44C16580C', 'classicbike', '2022-09-10T10:26:16', '2022-09-10T10:32:25', 'Wood St & Chicago Ave', '637', 'Wood St & Chicago Ave', '637', 41.895634, -87.672069, 41.895634, -87.672069, 'casual', 9, 5, 10, 10, 6.15)]"
      ]
     },
     "execution_count": 63,
     "metadata": {},
     "output_type": "execute_result"
    }
   ],
   "source": [
    "%%sql\n",
    "SELECT *\n",
    "FROM \n",
    "cyclisticb\n",
    "limit 10;"
   ]
  },
  {
   "cell_type": "code",
   "execution_count": 64,
   "id": "4a56bd12-e36c-4c7e-827c-a26282372966",
   "metadata": {},
   "outputs": [
    {
     "name": "stdout",
     "output_type": "stream",
     "text": [
      " * sqlite:///simsimdb.db\n",
      "1568271 rows affected.\n"
     ]
    },
    {
     "data": {
      "text/plain": [
       "[]"
      ]
     },
     "execution_count": 64,
     "metadata": {},
     "output_type": "execute_result"
    }
   ],
   "source": [
    "%%sql\n",
    "UPDATE cyclisticb\n",
    "SET dayofweek = CASE dayofweek\n",
    "                  WHEN '0' THEN 'Monday'\n",
    "                  WHEN '1' THEN 'Tuesday'\n",
    "                  WHEN '2' THEN 'Wednesday'\n",
    "                  WHEN '3' THEN 'Thursday'\n",
    "                  WHEN '4' THEN 'Friday'\n",
    "                  WHEN '5' THEN 'Saturday'\n",
    "                  WHEN '6' THEN 'Sunday'\n",
    "                  ELSE dayofweek  \n",
    "                END\n",
    "WHERE dayofweek IN ('0', '1', '2', '3', '4', '5', '6');"
   ]
  },
  {
   "cell_type": "code",
   "execution_count": 65,
   "id": "70f50ec5-4e52-4f5d-ae7b-fc57df3e92ec",
   "metadata": {},
   "outputs": [
    {
     "name": "stdout",
     "output_type": "stream",
     "text": [
      " * sqlite:///simsimdb.db\n",
      "1568271 rows affected.\n"
     ]
    },
    {
     "data": {
      "text/plain": [
       "[]"
      ]
     },
     "execution_count": 65,
     "metadata": {},
     "output_type": "execute_result"
    }
   ],
   "source": [
    "%%sql\n",
    "UPDATE cyclisticb\n",
    "SET month = CASE month\n",
    "                  WHEN '1' THEN 'January'\n",
    "                  WHEN '2' THEN 'February'\n",
    "                  WHEN '3' THEN 'March'\n",
    "                  WHEN '4' THEN 'April'\n",
    "                  WHEN '5' THEN 'May'\n",
    "                  WHEN '6' THEN 'June'\n",
    "                  WHEN '7' THEN 'July'\n",
    "                  WHEN '8' THEN 'August'\n",
    "                  WHEN '9' THEN 'September'\n",
    "                  WHEN '10' THEN 'October'\n",
    "                  WHEN '11' THEN 'November'\n",
    "                  WHEN '12' THEN 'December'\n",
    "                  ELSE month  \n",
    "                END\n",
    "WHERE month IN ('1', '2', '3', '4', '5', '6', '7', '8', '9', '10', '11', '12');"
   ]
  },
  {
   "cell_type": "code",
   "execution_count": 66,
   "id": "124749f9-1068-49bd-aa98-b590a8d663d2",
   "metadata": {},
   "outputs": [],
   "source": [
    "df = pd.read_sql('SELECT * FROM cyclisticb;', 'sqlite:///simsimdb.db')\n"
   ]
  },
  {
   "cell_type": "code",
   "execution_count": 67,
   "id": "4eb2c358-6cef-40ec-a837-d082358e8654",
   "metadata": {},
   "outputs": [],
   "source": [
    "df.to_csv('cyclistic1.csv', index=False)"
   ]
  }
 ],
 "metadata": {
  "kernelspec": {
   "display_name": "Python 3 (ipykernel)",
   "language": "python",
   "name": "python3"
  },
  "language_info": {
   "codemirror_mode": {
    "name": "ipython",
    "version": 3
   },
   "file_extension": ".py",
   "mimetype": "text/x-python",
   "name": "python",
   "nbconvert_exporter": "python",
   "pygments_lexer": "ipython3",
   "version": "3.9.2"
  }
 },
 "nbformat": 4,
 "nbformat_minor": 5
}
